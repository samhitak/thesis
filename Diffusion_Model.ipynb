{
 "cells": [
  {
   "cell_type": "code",
   "execution_count": 187,
   "metadata": {
    "collapsed": false
   },
   "outputs": [],
   "source": [
    "import pandas as pd\n",
    "import numpy as np\n",
    "import networkx as nx\n",
    "import ast\n",
    "import matplotlib.pyplot as plt\n",
    "from datetime import datetime as dt\n",
    "from random import randint\n",
    "from collections import Counter\n",
    "import math\n",
    "import sklearn as sklearn\n",
    "from sklearn.feature_extraction.text import TfidfVectorizer\n",
    "import nltk\n",
    "import string\n",
    "from nltk.corpus import stopwords\n",
    "from nltk.stem.porter import *\n",
    "from sklearn.metrics.pairwise import linear_kernel"
   ]
  },
  {
   "cell_type": "code",
   "execution_count": 85,
   "metadata": {
    "collapsed": true
   },
   "outputs": [],
   "source": [
    "users = pd.read_csv('2018_02_20_Users.csv', encoding = \"ISO-8859-1\")"
   ]
  },
  {
   "cell_type": "code",
   "execution_count": 86,
   "metadata": {
    "collapsed": false
   },
   "outputs": [
    {
     "data": {
      "text/html": [
       "<div>\n",
       "<table border=\"1\" class=\"dataframe\">\n",
       "  <thead>\n",
       "    <tr style=\"text-align: right;\">\n",
       "      <th></th>\n",
       "      <th>userHash (S)</th>\n",
       "      <th>currentLocation (S)</th>\n",
       "      <th>education1location (S)</th>\n",
       "      <th>education1name (S)</th>\n",
       "      <th>education2location (S)</th>\n",
       "      <th>education2name (S)</th>\n",
       "      <th>education3location (S)</th>\n",
       "      <th>education3name (S)</th>\n",
       "      <th>gender (S)</th>\n",
       "      <th>hometown (S)</th>\n",
       "      <th>...</th>\n",
       "      <th>work1role (S)</th>\n",
       "      <th>work2location (S)</th>\n",
       "      <th>work2name (S)</th>\n",
       "      <th>work2role (S)</th>\n",
       "      <th>work3location (S)</th>\n",
       "      <th>work3name (S)</th>\n",
       "      <th>work3role (S)</th>\n",
       "      <th>work4location (S)</th>\n",
       "      <th>work4name (S)</th>\n",
       "      <th>work4role (S)</th>\n",
       "    </tr>\n",
       "  </thead>\n",
       "  <tbody>\n",
       "    <tr>\n",
       "      <th>0</th>\n",
       "      <td>-318129462</td>\n",
       "      <td>NaN</td>\n",
       "      <td>NaN</td>\n",
       "      <td>NaN</td>\n",
       "      <td>NaN</td>\n",
       "      <td>NaN</td>\n",
       "      <td>NaN</td>\n",
       "      <td>NaN</td>\n",
       "      <td>Female</td>\n",
       "      <td>NaN</td>\n",
       "      <td>...</td>\n",
       "      <td>NaN</td>\n",
       "      <td>NaN</td>\n",
       "      <td>NaN</td>\n",
       "      <td>NaN</td>\n",
       "      <td>NaN</td>\n",
       "      <td>NaN</td>\n",
       "      <td>NaN</td>\n",
       "      <td>NaN</td>\n",
       "      <td>NaN</td>\n",
       "      <td>NaN</td>\n",
       "    </tr>\n",
       "    <tr>\n",
       "      <th>1</th>\n",
       "      <td>635926102</td>\n",
       "      <td>NaN</td>\n",
       "      <td>Redmond, Washington</td>\n",
       "      <td>Redmond High School</td>\n",
       "      <td>Redmond, Washington</td>\n",
       "      <td>University of Washington</td>\n",
       "      <td>NaN</td>\n",
       "      <td>NaN</td>\n",
       "      <td>Male</td>\n",
       "      <td>NaN</td>\n",
       "      <td>...</td>\n",
       "      <td>Software Developer</td>\n",
       "      <td>San Jose, CA</td>\n",
       "      <td>Cisco</td>\n",
       "      <td>Software Engineering Intern</td>\n",
       "      <td>Seattle, WA</td>\n",
       "      <td>Seattle Youth Symphony Orchestra</td>\n",
       "      <td>Data entry clerk</td>\n",
       "      <td>NaN</td>\n",
       "      <td>NaN</td>\n",
       "      <td>NaN</td>\n",
       "    </tr>\n",
       "    <tr>\n",
       "      <th>2</th>\n",
       "      <td>-1748993256</td>\n",
       "      <td>NaN</td>\n",
       "      <td>NaN</td>\n",
       "      <td>NaN</td>\n",
       "      <td>NaN</td>\n",
       "      <td>NaN</td>\n",
       "      <td>NaN</td>\n",
       "      <td>NaN</td>\n",
       "      <td>Female</td>\n",
       "      <td>NaN</td>\n",
       "      <td>...</td>\n",
       "      <td>NaN</td>\n",
       "      <td>NaN</td>\n",
       "      <td>NaN</td>\n",
       "      <td>NaN</td>\n",
       "      <td>NaN</td>\n",
       "      <td>NaN</td>\n",
       "      <td>NaN</td>\n",
       "      <td>NaN</td>\n",
       "      <td>NaN</td>\n",
       "      <td>NaN</td>\n",
       "    </tr>\n",
       "    <tr>\n",
       "      <th>3</th>\n",
       "      <td>-1318276747</td>\n",
       "      <td>Princeton</td>\n",
       "      <td>NaN</td>\n",
       "      <td>NaN</td>\n",
       "      <td>NaN</td>\n",
       "      <td>NaN</td>\n",
       "      <td>NaN</td>\n",
       "      <td>NaN</td>\n",
       "      <td>Female</td>\n",
       "      <td>NaN</td>\n",
       "      <td>...</td>\n",
       "      <td>NaN</td>\n",
       "      <td>NaN</td>\n",
       "      <td>NaN</td>\n",
       "      <td>NaN</td>\n",
       "      <td>NaN</td>\n",
       "      <td>NaN</td>\n",
       "      <td>NaN</td>\n",
       "      <td>NaN</td>\n",
       "      <td>NaN</td>\n",
       "      <td>NaN</td>\n",
       "    </tr>\n",
       "    <tr>\n",
       "      <th>4</th>\n",
       "      <td>2109566321</td>\n",
       "      <td>NaN</td>\n",
       "      <td>Redmond, WA</td>\n",
       "      <td>Redmond High School</td>\n",
       "      <td>Redmond, WA</td>\n",
       "      <td>Princeton University</td>\n",
       "      <td>NaN</td>\n",
       "      <td>NaN</td>\n",
       "      <td>Female</td>\n",
       "      <td>Sammamish, WA</td>\n",
       "      <td>...</td>\n",
       "      <td>NaN</td>\n",
       "      <td>NaN</td>\n",
       "      <td>NaN</td>\n",
       "      <td>NaN</td>\n",
       "      <td>NaN</td>\n",
       "      <td>NaN</td>\n",
       "      <td>NaN</td>\n",
       "      <td>NaN</td>\n",
       "      <td>NaN</td>\n",
       "      <td>NaN</td>\n",
       "    </tr>\n",
       "  </tbody>\n",
       "</table>\n",
       "<p>5 rows × 27 columns</p>\n",
       "</div>"
      ],
      "text/plain": [
       "   userHash (S) currentLocation (S) education1location (S)  \\\n",
       "0    -318129462                 NaN                    NaN   \n",
       "1     635926102                 NaN    Redmond, Washington   \n",
       "2   -1748993256                 NaN                    NaN   \n",
       "3   -1318276747           Princeton                    NaN   \n",
       "4    2109566321                 NaN            Redmond, WA   \n",
       "\n",
       "    education1name (S) education2location (S)        education2name (S)  \\\n",
       "0                  NaN                    NaN                       NaN   \n",
       "1  Redmond High School    Redmond, Washington  University of Washington   \n",
       "2                  NaN                    NaN                       NaN   \n",
       "3                  NaN                    NaN                       NaN   \n",
       "4  Redmond High School            Redmond, WA      Princeton University   \n",
       "\n",
       "  education3location (S) education3name (S) gender (S)   hometown (S)  \\\n",
       "0                    NaN                NaN     Female            NaN   \n",
       "1                    NaN                NaN       Male            NaN   \n",
       "2                    NaN                NaN     Female            NaN   \n",
       "3                    NaN                NaN     Female            NaN   \n",
       "4                    NaN                NaN     Female  Sammamish, WA   \n",
       "\n",
       "       ...            work1role (S) work2location (S) work2name (S)  \\\n",
       "0      ...                      NaN               NaN           NaN   \n",
       "1      ...       Software Developer      San Jose, CA         Cisco   \n",
       "2      ...                      NaN               NaN           NaN   \n",
       "3      ...                      NaN               NaN           NaN   \n",
       "4      ...                      NaN               NaN           NaN   \n",
       "\n",
       "                 work2role (S) work3location (S)  \\\n",
       "0                          NaN               NaN   \n",
       "1  Software Engineering Intern       Seattle, WA   \n",
       "2                          NaN               NaN   \n",
       "3                          NaN               NaN   \n",
       "4                          NaN               NaN   \n",
       "\n",
       "                      work3name (S)     work3role (S) work4location (S)  \\\n",
       "0                               NaN               NaN               NaN   \n",
       "1  Seattle Youth Symphony Orchestra  Data entry clerk               NaN   \n",
       "2                               NaN               NaN               NaN   \n",
       "3                               NaN               NaN               NaN   \n",
       "4                               NaN               NaN               NaN   \n",
       "\n",
       "  work4name (S) work4role (S)  \n",
       "0           NaN           NaN  \n",
       "1           NaN           NaN  \n",
       "2           NaN           NaN  \n",
       "3           NaN           NaN  \n",
       "4           NaN           NaN  \n",
       "\n",
       "[5 rows x 27 columns]"
      ]
     },
     "execution_count": 86,
     "metadata": {},
     "output_type": "execute_result"
    }
   ],
   "source": [
    "users.head(n=5)"
   ]
  },
  {
   "cell_type": "code",
   "execution_count": 87,
   "metadata": {
    "collapsed": true
   },
   "outputs": [],
   "source": [
    "articles = pd.read_csv('2018_02_20_Articles.csv', encoding = \"ISO-8859-1\")"
   ]
  },
  {
   "cell_type": "code",
   "execution_count": 88,
   "metadata": {
    "collapsed": false
   },
   "outputs": [
    {
     "data": {
      "text/html": [
       "<div>\n",
       "<table border=\"1\" class=\"dataframe\">\n",
       "  <thead>\n",
       "    <tr style=\"text-align: right;\">\n",
       "      <th></th>\n",
       "      <th>userHash (S)</th>\n",
       "      <th>articleURL (S)</th>\n",
       "      <th>articleClicked (BOOL)</th>\n",
       "      <th>articleClickedTime (S)</th>\n",
       "      <th>articleComments (L)</th>\n",
       "      <th>articlePopularity (L)</th>\n",
       "      <th>articleSeenTime (L)</th>\n",
       "      <th>articleSharedTime (L)</th>\n",
       "      <th>articleTitle (S)</th>\n",
       "      <th>sharerHash (L)</th>\n",
       "    </tr>\n",
       "  </thead>\n",
       "  <tbody>\n",
       "    <tr>\n",
       "      <th>0</th>\n",
       "      <td>-318129462</td>\n",
       "      <td>http://bit.ly/Timoth%C3%A9e-Armie-YOU</td>\n",
       "      <td>True</td>\n",
       "      <td>Sun, 11 Feb 2018 02:44:44 GMT</td>\n",
       "      <td>[]</td>\n",
       "      <td>[]</td>\n",
       "      <td>[  { \"S\" : \"Sun, 11 Feb 2018 02:44:44 GMT\" }]</td>\n",
       "      <td>[]</td>\n",
       "      <td>NaN</td>\n",
       "      <td>[]</td>\n",
       "    </tr>\n",
       "    <tr>\n",
       "      <th>1</th>\n",
       "      <td>-318129462</td>\n",
       "      <td>http://eonli.ne/2BZ0vBf</td>\n",
       "      <td>True</td>\n",
       "      <td>Fri, 16 Feb 2018 17:28:00 GMT</td>\n",
       "      <td>[]</td>\n",
       "      <td>[]</td>\n",
       "      <td>[  { \"S\" : \"Fri, 16 Feb 2018 17:28:00 GMT\" }]</td>\n",
       "      <td>[]</td>\n",
       "      <td>NaN</td>\n",
       "      <td>[]</td>\n",
       "    </tr>\n",
       "    <tr>\n",
       "      <th>2</th>\n",
       "      <td>-318129462</td>\n",
       "      <td>http://www.eonline.com/news/911768/jamie-dorna...</td>\n",
       "      <td>True</td>\n",
       "      <td>Fri, 16 Feb 2018 17:28:08 GMT</td>\n",
       "      <td>[]</td>\n",
       "      <td>[]</td>\n",
       "      <td>[  { \"S\" : \"Fri, 16 Feb 2018 17:28:08 GMT\" }]</td>\n",
       "      <td>[]</td>\n",
       "      <td>NaN</td>\n",
       "      <td>[]</td>\n",
       "    </tr>\n",
       "    <tr>\n",
       "      <th>3</th>\n",
       "      <td>-318129462</td>\n",
       "      <td>https://offbeat.topix.net/slideshow/18943</td>\n",
       "      <td>True</td>\n",
       "      <td>Sun, 11 Feb 2018 02:52:14 GMT</td>\n",
       "      <td>[]</td>\n",
       "      <td>[]</td>\n",
       "      <td>[  { \"S\" : \"Sun, 11 Feb 2018 02:52:14 GMT\" }]</td>\n",
       "      <td>[]</td>\n",
       "      <td>NaN</td>\n",
       "      <td>[]</td>\n",
       "    </tr>\n",
       "    <tr>\n",
       "      <th>4</th>\n",
       "      <td>-318129462</td>\n",
       "      <td>https://rewire.news/article/2018/02/14/south-a...</td>\n",
       "      <td>True</td>\n",
       "      <td>Fri, 16 Feb 2018 17:18:31 GMT</td>\n",
       "      <td>[]</td>\n",
       "      <td>[]</td>\n",
       "      <td>[  { \"S\" : \"Fri, 16 Feb 2018 17:18:29 GMT\" }]</td>\n",
       "      <td>[]</td>\n",
       "      <td>NaN</td>\n",
       "      <td>[]</td>\n",
       "    </tr>\n",
       "  </tbody>\n",
       "</table>\n",
       "</div>"
      ],
      "text/plain": [
       "   userHash (S)                                     articleURL (S)  \\\n",
       "0    -318129462              http://bit.ly/Timoth%C3%A9e-Armie-YOU   \n",
       "1    -318129462                            http://eonli.ne/2BZ0vBf   \n",
       "2    -318129462  http://www.eonline.com/news/911768/jamie-dorna...   \n",
       "3    -318129462          https://offbeat.topix.net/slideshow/18943   \n",
       "4    -318129462  https://rewire.news/article/2018/02/14/south-a...   \n",
       "\n",
       "  articleClicked (BOOL)         articleClickedTime (S) articleComments (L)  \\\n",
       "0                  True  Sun, 11 Feb 2018 02:44:44 GMT                  []   \n",
       "1                  True  Fri, 16 Feb 2018 17:28:00 GMT                  []   \n",
       "2                  True  Fri, 16 Feb 2018 17:28:08 GMT                  []   \n",
       "3                  True  Sun, 11 Feb 2018 02:52:14 GMT                  []   \n",
       "4                  True  Fri, 16 Feb 2018 17:18:31 GMT                  []   \n",
       "\n",
       "  articlePopularity (L)                            articleSeenTime (L)  \\\n",
       "0                    []  [  { \"S\" : \"Sun, 11 Feb 2018 02:44:44 GMT\" }]   \n",
       "1                    []  [  { \"S\" : \"Fri, 16 Feb 2018 17:28:00 GMT\" }]   \n",
       "2                    []  [  { \"S\" : \"Fri, 16 Feb 2018 17:28:08 GMT\" }]   \n",
       "3                    []  [  { \"S\" : \"Sun, 11 Feb 2018 02:52:14 GMT\" }]   \n",
       "4                    []  [  { \"S\" : \"Fri, 16 Feb 2018 17:18:29 GMT\" }]   \n",
       "\n",
       "  articleSharedTime (L) articleTitle (S) sharerHash (L)  \n",
       "0                    []              NaN             []  \n",
       "1                    []              NaN             []  \n",
       "2                    []              NaN             []  \n",
       "3                    []              NaN             []  \n",
       "4                    []              NaN             []  "
      ]
     },
     "execution_count": 88,
     "metadata": {},
     "output_type": "execute_result"
    }
   ],
   "source": [
    "articles.head(n=5)"
   ]
  },
  {
   "cell_type": "code",
   "execution_count": 89,
   "metadata": {
    "collapsed": false
   },
   "outputs": [],
   "source": [
    "# take interactions that have sharerHashes\n",
    "forgraph_t = articles[articles['sharerHash (L)'] != '[]']\n",
    "forgraph_t = forgraph_t.reset_index()"
   ]
  },
  {
   "cell_type": "code",
   "execution_count": 107,
   "metadata": {
    "collapsed": false
   },
   "outputs": [
    {
     "data": {
      "text/html": [
       "<div>\n",
       "<table border=\"1\" class=\"dataframe\">\n",
       "  <thead>\n",
       "    <tr style=\"text-align: right;\">\n",
       "      <th></th>\n",
       "      <th>index</th>\n",
       "      <th>userHash (S)</th>\n",
       "      <th>articleURL (S)</th>\n",
       "      <th>articleClicked (BOOL)</th>\n",
       "      <th>articleClickedTime (S)</th>\n",
       "      <th>articleComments (L)</th>\n",
       "      <th>articlePopularity (L)</th>\n",
       "      <th>articleSeenTime (L)</th>\n",
       "      <th>articleSharedTime (L)</th>\n",
       "      <th>articleTitle (S)</th>\n",
       "      <th>sharerHash (L)</th>\n",
       "    </tr>\n",
       "  </thead>\n",
       "  <tbody>\n",
       "    <tr>\n",
       "      <th>0</th>\n",
       "      <td>14</td>\n",
       "      <td>-1949465643</td>\n",
       "      <td>http://jstreet.org/press-releases/j-street-opp...</td>\n",
       "      <td>False</td>\n",
       "      <td>NaN</td>\n",
       "      <td>[  { \"S\" : \"NULL\" }]</td>\n",
       "      <td>[  { \"S\" : \"10\" }]</td>\n",
       "      <td>[  { \"S\" : \"Tue, 13 Feb 2018 01:21:46 GMT\" }]</td>\n",
       "      <td>[  { \"S\" : \"02/12/2018 6:54pm\" }]</td>\n",
       "      <td>J Street Opposes Confirmation of Kenneth Marcu...</td>\n",
       "      <td>[  { \"S\" : \"-1174757635\" }]</td>\n",
       "    </tr>\n",
       "    <tr>\n",
       "      <th>1</th>\n",
       "      <td>19</td>\n",
       "      <td>-1748993256</td>\n",
       "      <td>http://hill.cm/EOrPLMZ</td>\n",
       "      <td>False</td>\n",
       "      <td>NaN</td>\n",
       "      <td>[  { \"S\" : \"NULL\" }]</td>\n",
       "      <td>[  { \"S\" : \"3 \" }]</td>\n",
       "      <td>[  { \"S\" : \"Fri, 16 Feb 2018 15:06:00 GMT\" }]</td>\n",
       "      <td>[  { \"S\" : \"NULL\" }]</td>\n",
       "      <td>White House refused to release photo of Trump ...</td>\n",
       "      <td>[  { \"S\" : \"2407815\" }]</td>\n",
       "    </tr>\n",
       "    <tr>\n",
       "      <th>2</th>\n",
       "      <td>20</td>\n",
       "      <td>-1748993256</td>\n",
       "      <td>http://hill.cm/X9HpS96</td>\n",
       "      <td>False</td>\n",
       "      <td>NaN</td>\n",
       "      <td>[  { \"S\" : \"BREAKING: FBI officials were alert...</td>\n",
       "      <td>[  { \"S\" : \"1\" }]</td>\n",
       "      <td>[  { \"S\" : \"Fri, 16 Feb 2018 15:04:49 GMT\" }]</td>\n",
       "      <td>[  { \"S\" : \"02/15/2018 8:05am\" }]</td>\n",
       "      <td>FBI was warned last year of school shooting th...</td>\n",
       "      <td>[  { \"S\" : \"1101628624\" }]</td>\n",
       "    </tr>\n",
       "    <tr>\n",
       "      <th>3</th>\n",
       "      <td>21</td>\n",
       "      <td>-1748993256</td>\n",
       "      <td>http://stanford.io/2ClZ68d</td>\n",
       "      <td>True</td>\n",
       "      <td>Thu, 15 Feb 2018 14:32:01 GMT</td>\n",
       "      <td>[  { \"S\" : \"NULL\" }]</td>\n",
       "      <td>[  { \"S\" : \"44\" }]</td>\n",
       "      <td>[  { \"S\" : \"Thu, 15 Feb 2018 14:32:01 GMT\" }]</td>\n",
       "      <td>[  { \"S\" : \"02/15/2018 8:45am\" }]</td>\n",
       "      <td>http://stanford.io/2ClZ68d&lt;/a&gt; &lt;br&gt; &lt;a class=\"...</td>\n",
       "      <td>[  { \"S\" : \"46193696\" }]</td>\n",
       "    </tr>\n",
       "    <tr>\n",
       "      <th>4</th>\n",
       "      <td>22</td>\n",
       "      <td>-1748993256</td>\n",
       "      <td>http://t.ted.com/gmdx0iv</td>\n",
       "      <td>False</td>\n",
       "      <td>NaN</td>\n",
       "      <td>[  { \"S\" : \"Practical money advice from a self...</td>\n",
       "      <td>[  { \"S\" : \"4\" }]</td>\n",
       "      <td>[  { \"S\" : \"Fri, 16 Feb 2018 15:04:49 GMT\" }]</td>\n",
       "      <td>[  { \"S\" : \"02/16/2018 10:00am\" }]</td>\n",
       "      <td>6 simple tips for investment beginners</td>\n",
       "      <td>[  { \"S\" : \"82931\" }]</td>\n",
       "    </tr>\n",
       "  </tbody>\n",
       "</table>\n",
       "</div>"
      ],
      "text/plain": [
       "   index  userHash (S)                                     articleURL (S)  \\\n",
       "0     14   -1949465643  http://jstreet.org/press-releases/j-street-opp...   \n",
       "1     19   -1748993256                             http://hill.cm/EOrPLMZ   \n",
       "2     20   -1748993256                             http://hill.cm/X9HpS96   \n",
       "3     21   -1748993256                         http://stanford.io/2ClZ68d   \n",
       "4     22   -1748993256                           http://t.ted.com/gmdx0iv   \n",
       "\n",
       "  articleClicked (BOOL)         articleClickedTime (S)  \\\n",
       "0                 False                            NaN   \n",
       "1                 False                            NaN   \n",
       "2                 False                            NaN   \n",
       "3                  True  Thu, 15 Feb 2018 14:32:01 GMT   \n",
       "4                 False                            NaN   \n",
       "\n",
       "                                 articleComments (L) articlePopularity (L)  \\\n",
       "0                               [  { \"S\" : \"NULL\" }]    [  { \"S\" : \"10\" }]   \n",
       "1                               [  { \"S\" : \"NULL\" }]    [  { \"S\" : \"3 \" }]   \n",
       "2  [  { \"S\" : \"BREAKING: FBI officials were alert...     [  { \"S\" : \"1\" }]   \n",
       "3                               [  { \"S\" : \"NULL\" }]    [  { \"S\" : \"44\" }]   \n",
       "4  [  { \"S\" : \"Practical money advice from a self...     [  { \"S\" : \"4\" }]   \n",
       "\n",
       "                             articleSeenTime (L)  \\\n",
       "0  [  { \"S\" : \"Tue, 13 Feb 2018 01:21:46 GMT\" }]   \n",
       "1  [  { \"S\" : \"Fri, 16 Feb 2018 15:06:00 GMT\" }]   \n",
       "2  [  { \"S\" : \"Fri, 16 Feb 2018 15:04:49 GMT\" }]   \n",
       "3  [  { \"S\" : \"Thu, 15 Feb 2018 14:32:01 GMT\" }]   \n",
       "4  [  { \"S\" : \"Fri, 16 Feb 2018 15:04:49 GMT\" }]   \n",
       "\n",
       "                articleSharedTime (L)  \\\n",
       "0   [  { \"S\" : \"02/12/2018 6:54pm\" }]   \n",
       "1                [  { \"S\" : \"NULL\" }]   \n",
       "2   [  { \"S\" : \"02/15/2018 8:05am\" }]   \n",
       "3   [  { \"S\" : \"02/15/2018 8:45am\" }]   \n",
       "4  [  { \"S\" : \"02/16/2018 10:00am\" }]   \n",
       "\n",
       "                                    articleTitle (S)  \\\n",
       "0  J Street Opposes Confirmation of Kenneth Marcu...   \n",
       "1  White House refused to release photo of Trump ...   \n",
       "2  FBI was warned last year of school shooting th...   \n",
       "3  http://stanford.io/2ClZ68d</a> <br> <a class=\"...   \n",
       "4             6 simple tips for investment beginners   \n",
       "\n",
       "                sharerHash (L)  \n",
       "0  [  { \"S\" : \"-1174757635\" }]  \n",
       "1      [  { \"S\" : \"2407815\" }]  \n",
       "2   [  { \"S\" : \"1101628624\" }]  \n",
       "3     [  { \"S\" : \"46193696\" }]  \n",
       "4        [  { \"S\" : \"82931\" }]  "
      ]
     },
     "execution_count": 107,
     "metadata": {},
     "output_type": "execute_result"
    }
   ],
   "source": [
    "forgraph_t.head(n=5)"
   ]
  },
  {
   "cell_type": "code",
   "execution_count": 108,
   "metadata": {
    "collapsed": true
   },
   "outputs": [],
   "source": [
    "# take interactions that have userHashes that are in the users table\n",
    "users_list = set(users[\"userHash (S)\"])\n",
    "forgraph = forgraph_t[forgraph_t[\"userHash (S)\"].isin(users_list)] "
   ]
  },
  {
   "cell_type": "code",
   "execution_count": 109,
   "metadata": {
    "collapsed": false
   },
   "outputs": [
    {
     "data": {
      "text/plain": [
       "1341"
      ]
     },
     "execution_count": 109,
     "metadata": {},
     "output_type": "execute_result"
    }
   ],
   "source": [
    "len(forgraph)"
   ]
  },
  {
   "cell_type": "code",
   "execution_count": 110,
   "metadata": {
    "collapsed": false
   },
   "outputs": [
    {
     "data": {
      "text/html": [
       "<div>\n",
       "<table border=\"1\" class=\"dataframe\">\n",
       "  <thead>\n",
       "    <tr style=\"text-align: right;\">\n",
       "      <th></th>\n",
       "      <th>index</th>\n",
       "      <th>userHash (S)</th>\n",
       "      <th>articleURL (S)</th>\n",
       "      <th>articleClicked (BOOL)</th>\n",
       "      <th>articleClickedTime (S)</th>\n",
       "      <th>articleComments (L)</th>\n",
       "      <th>articlePopularity (L)</th>\n",
       "      <th>articleSeenTime (L)</th>\n",
       "      <th>articleSharedTime (L)</th>\n",
       "      <th>articleTitle (S)</th>\n",
       "      <th>sharerHash (L)</th>\n",
       "    </tr>\n",
       "  </thead>\n",
       "  <tbody>\n",
       "    <tr>\n",
       "      <th>1</th>\n",
       "      <td>19</td>\n",
       "      <td>-1748993256</td>\n",
       "      <td>http://hill.cm/EOrPLMZ</td>\n",
       "      <td>False</td>\n",
       "      <td>NaN</td>\n",
       "      <td>[  { \"S\" : \"NULL\" }]</td>\n",
       "      <td>[  { \"S\" : \"3 \" }]</td>\n",
       "      <td>[  { \"S\" : \"Fri, 16 Feb 2018 15:06:00 GMT\" }]</td>\n",
       "      <td>[  { \"S\" : \"NULL\" }]</td>\n",
       "      <td>White House refused to release photo of Trump ...</td>\n",
       "      <td>[  { \"S\" : \"2407815\" }]</td>\n",
       "    </tr>\n",
       "    <tr>\n",
       "      <th>2</th>\n",
       "      <td>20</td>\n",
       "      <td>-1748993256</td>\n",
       "      <td>http://hill.cm/X9HpS96</td>\n",
       "      <td>False</td>\n",
       "      <td>NaN</td>\n",
       "      <td>[  { \"S\" : \"BREAKING: FBI officials were alert...</td>\n",
       "      <td>[  { \"S\" : \"1\" }]</td>\n",
       "      <td>[  { \"S\" : \"Fri, 16 Feb 2018 15:04:49 GMT\" }]</td>\n",
       "      <td>[  { \"S\" : \"02/15/2018 8:05am\" }]</td>\n",
       "      <td>FBI was warned last year of school shooting th...</td>\n",
       "      <td>[  { \"S\" : \"1101628624\" }]</td>\n",
       "    </tr>\n",
       "    <tr>\n",
       "      <th>3</th>\n",
       "      <td>21</td>\n",
       "      <td>-1748993256</td>\n",
       "      <td>http://stanford.io/2ClZ68d</td>\n",
       "      <td>True</td>\n",
       "      <td>Thu, 15 Feb 2018 14:32:01 GMT</td>\n",
       "      <td>[  { \"S\" : \"NULL\" }]</td>\n",
       "      <td>[  { \"S\" : \"44\" }]</td>\n",
       "      <td>[  { \"S\" : \"Thu, 15 Feb 2018 14:32:01 GMT\" }]</td>\n",
       "      <td>[  { \"S\" : \"02/15/2018 8:45am\" }]</td>\n",
       "      <td>http://stanford.io/2ClZ68d&lt;/a&gt; &lt;br&gt; &lt;a class=\"...</td>\n",
       "      <td>[  { \"S\" : \"46193696\" }]</td>\n",
       "    </tr>\n",
       "    <tr>\n",
       "      <th>4</th>\n",
       "      <td>22</td>\n",
       "      <td>-1748993256</td>\n",
       "      <td>http://t.ted.com/gmdx0iv</td>\n",
       "      <td>False</td>\n",
       "      <td>NaN</td>\n",
       "      <td>[  { \"S\" : \"Practical money advice from a self...</td>\n",
       "      <td>[  { \"S\" : \"4\" }]</td>\n",
       "      <td>[  { \"S\" : \"Fri, 16 Feb 2018 15:04:49 GMT\" }]</td>\n",
       "      <td>[  { \"S\" : \"02/16/2018 10:00am\" }]</td>\n",
       "      <td>6 simple tips for investment beginners</td>\n",
       "      <td>[  { \"S\" : \"82931\" }]</td>\n",
       "    </tr>\n",
       "    <tr>\n",
       "      <th>5</th>\n",
       "      <td>23</td>\n",
       "      <td>-1748993256</td>\n",
       "      <td>https://collegepulse.com/survey/5a85e6d386f8d3...</td>\n",
       "      <td>False</td>\n",
       "      <td>NaN</td>\n",
       "      <td>[  { \"S\" : \"NULL\" }]</td>\n",
       "      <td>[  { \"S\" : \"1\" }]</td>\n",
       "      <td>[  { \"S\" : \"Fri, 16 Feb 2018 15:04:49 GMT\" }]</td>\n",
       "      <td>[  { \"S\" : \"02/16/2018 9:40am\" }]</td>\n",
       "      <td>www.collegepulse.com&lt;/a&gt;</td>\n",
       "      <td>[  { \"S\" : \"1236633202\" }]</td>\n",
       "    </tr>\n",
       "  </tbody>\n",
       "</table>\n",
       "</div>"
      ],
      "text/plain": [
       "   index  userHash (S)                                     articleURL (S)  \\\n",
       "1     19   -1748993256                             http://hill.cm/EOrPLMZ   \n",
       "2     20   -1748993256                             http://hill.cm/X9HpS96   \n",
       "3     21   -1748993256                         http://stanford.io/2ClZ68d   \n",
       "4     22   -1748993256                           http://t.ted.com/gmdx0iv   \n",
       "5     23   -1748993256  https://collegepulse.com/survey/5a85e6d386f8d3...   \n",
       "\n",
       "  articleClicked (BOOL)         articleClickedTime (S)  \\\n",
       "1                 False                            NaN   \n",
       "2                 False                            NaN   \n",
       "3                  True  Thu, 15 Feb 2018 14:32:01 GMT   \n",
       "4                 False                            NaN   \n",
       "5                 False                            NaN   \n",
       "\n",
       "                                 articleComments (L) articlePopularity (L)  \\\n",
       "1                               [  { \"S\" : \"NULL\" }]    [  { \"S\" : \"3 \" }]   \n",
       "2  [  { \"S\" : \"BREAKING: FBI officials were alert...     [  { \"S\" : \"1\" }]   \n",
       "3                               [  { \"S\" : \"NULL\" }]    [  { \"S\" : \"44\" }]   \n",
       "4  [  { \"S\" : \"Practical money advice from a self...     [  { \"S\" : \"4\" }]   \n",
       "5                               [  { \"S\" : \"NULL\" }]     [  { \"S\" : \"1\" }]   \n",
       "\n",
       "                             articleSeenTime (L)  \\\n",
       "1  [  { \"S\" : \"Fri, 16 Feb 2018 15:06:00 GMT\" }]   \n",
       "2  [  { \"S\" : \"Fri, 16 Feb 2018 15:04:49 GMT\" }]   \n",
       "3  [  { \"S\" : \"Thu, 15 Feb 2018 14:32:01 GMT\" }]   \n",
       "4  [  { \"S\" : \"Fri, 16 Feb 2018 15:04:49 GMT\" }]   \n",
       "5  [  { \"S\" : \"Fri, 16 Feb 2018 15:04:49 GMT\" }]   \n",
       "\n",
       "                articleSharedTime (L)  \\\n",
       "1                [  { \"S\" : \"NULL\" }]   \n",
       "2   [  { \"S\" : \"02/15/2018 8:05am\" }]   \n",
       "3   [  { \"S\" : \"02/15/2018 8:45am\" }]   \n",
       "4  [  { \"S\" : \"02/16/2018 10:00am\" }]   \n",
       "5   [  { \"S\" : \"02/16/2018 9:40am\" }]   \n",
       "\n",
       "                                    articleTitle (S)  \\\n",
       "1  White House refused to release photo of Trump ...   \n",
       "2  FBI was warned last year of school shooting th...   \n",
       "3  http://stanford.io/2ClZ68d</a> <br> <a class=\"...   \n",
       "4             6 simple tips for investment beginners   \n",
       "5                           www.collegepulse.com</a>   \n",
       "\n",
       "               sharerHash (L)  \n",
       "1     [  { \"S\" : \"2407815\" }]  \n",
       "2  [  { \"S\" : \"1101628624\" }]  \n",
       "3    [  { \"S\" : \"46193696\" }]  \n",
       "4       [  { \"S\" : \"82931\" }]  \n",
       "5  [  { \"S\" : \"1236633202\" }]  "
      ]
     },
     "execution_count": 110,
     "metadata": {},
     "output_type": "execute_result"
    }
   ],
   "source": [
    "forgraph.head(n=5)"
   ]
  },
  {
   "cell_type": "markdown",
   "metadata": {},
   "source": [
    "## Base methods"
   ]
  },
  {
   "cell_type": "code",
   "execution_count": 5,
   "metadata": {
    "collapsed": true
   },
   "outputs": [],
   "source": [
    "def getRandomInteraction(all_interactions):\n",
    "    index = randint(0, len(all_interactions)-1)\n",
    "    currUserHash = all_interactions.iloc[[index]]['userHash (S)'][index]\n",
    "    currSharerHash_list = ast.literal_eval(all_interactions.iloc[[index]]['sharerHash (L)'][index])\n",
    "    currSeenTime_list = ast.literal_eval(all_interactions.iloc[[index]]['articleSeenTime (L)'][index])\n",
    "    if len(currSharerHash_list) == 1:\n",
    "        currSharerHash = currSharerHash_list[0].get(\"S\")\n",
    "        currSeenTime = currSeenTime_list[0].get(\"S\")\n",
    "    else:\n",
    "        t_index = randint(0, len(currSharerHash_list)-1)\n",
    "        currSharerHash = currSharerHash_list[t_index].get(\"S\")\n",
    "        currSeenTime= currSeenTime_list[t_index].get(\"S\")\n",
    "    return [str(currUserHash), str(currSharerHash), str(currSeenTime)]"
   ]
  },
  {
   "cell_type": "code",
   "execution_count": 6,
   "metadata": {
    "collapsed": true
   },
   "outputs": [],
   "source": [
    "def makeGraph(timestamp):\n",
    "    timestamp = dt.strptime(timestamp, \"%a, %d %b %Y %H:%M:%S %Z\")\n",
    "    beforetime_DF = pd.DataFrame()\n",
    "    for i in range(0, len(forgraph)):\n",
    "        temp_date_list = ast.literal_eval(forgraph.iloc[[i]][\"articleSeenTime (L)\"][i])\n",
    "        for k in range(0, len(temp_date_list)):\n",
    "            temp_date = temp_date_list[k].get(\"S\")\n",
    "            date_obj = dt.strptime(temp_date, \"%a, %d %b %Y %H:%M:%S %Z\")\n",
    "            if date_obj <= timestamp:\n",
    "                beforetime_DF = beforetime_DF.append(forgraph.iloc[[i]], ignore_index=True)\n",
    "                break\n",
    "                \n",
    "    sharerHash_list = beforetime_DF['sharerHash (L)']\n",
    "    userHash_list = beforetime_DF[\"userHash (S)\"]\n",
    "    \n",
    "    edges_list = []\n",
    "    for i in range(0, len(sharerHash_list)):\n",
    "        temp = ast.literal_eval(sharerHash_list[i])\n",
    "        for k in range(0, len(temp)):\n",
    "            edges_list.append((str(userHash_list[i]), temp[k].get(\"S\")))\n",
    "            \n",
    "    weighted_edges = []\n",
    "    i = 0\n",
    "    while i < len(edges_list)-2:\n",
    "        weight = 1\n",
    "        while ((edges_list[i][0] == edges_list[i+1][0]) and (edges_list[i][1] == edges_list[i+1][1])):\n",
    "            weight = weight + 1\n",
    "            i = i + 1\n",
    "        weighted_edges.append((edges_list[i][0], edges_list[i][1], weight))\n",
    "        i = i + 1\n",
    "        \n",
    "    interactions = nx.DiGraph()\n",
    "    interactions.add_weighted_edges_from(weighted_edges)\n",
    "    return interactions"
   ]
  },
  {
   "cell_type": "markdown",
   "metadata": {},
   "source": [
    "## Feature functions"
   ]
  },
  {
   "cell_type": "code",
   "execution_count": null,
   "metadata": {
    "collapsed": true
   },
   "outputs": [],
   "source": [
    "def thematicInterest():"
   ]
  },
  {
   "cell_type": "code",
   "execution_count": 7,
   "metadata": {
    "collapsed": true
   },
   "outputs": [],
   "source": [
    "def activity(x, g):\n",
    "    return g.out_degree(x)/g.in_degree(x)"
   ]
  },
  {
   "cell_type": "code",
   "execution_count": null,
   "metadata": {
    "collapsed": true
   },
   "outputs": [],
   "source": [
    "def socialPressure():"
   ]
  },
  {
   "cell_type": "code",
   "execution_count": null,
   "metadata": {
    "collapsed": true
   },
   "outputs": [],
   "source": []
  },
  {
   "cell_type": "code",
   "execution_count": null,
   "metadata": {
    "collapsed": true
   },
   "outputs": [],
   "source": []
  },
  {
   "cell_type": "code",
   "execution_count": null,
   "metadata": {
    "collapsed": true
   },
   "outputs": [],
   "source": []
  },
  {
   "cell_type": "markdown",
   "metadata": {},
   "source": [
    "## tf-idf"
   ]
  },
  {
   "cell_type": "code",
   "execution_count": 170,
   "metadata": {
    "collapsed": true
   },
   "outputs": [],
   "source": [
    "def tokenize(data):\n",
    "    translator = str.maketrans('', '', string.punctuation)\n",
    "    data = data.lower().translate(translator) \n",
    "    tokens = nltk.word_tokenize(data)\n",
    "    return tokens\n",
    "\n",
    "def removeStopwords(tokens):\n",
    "    filtered_tokens = [w for w in tokens if not w in stopwords.words('english')]\n",
    "    return filtered_tokens\n",
    "\n",
    "def stem(tokens):\n",
    "    stemmer = PorterStemmer()\n",
    "    stemmed_tokens = []\n",
    "    for item in tokens:\n",
    "        stemmed_tokens.append(stemmer.stem(item))\n",
    "    return stemmed_tokens"
   ]
  },
  {
   "cell_type": "code",
   "execution_count": 190,
   "metadata": {
    "collapsed": true
   },
   "outputs": [],
   "source": [
    "def getArticleData(ind):\n",
    "    comments = ast.literal_eval(temp[\"articleComments (L)\"][ind])[0].get(\"S\")\n",
    "    title = temp[\"articleTitle (S)\"][ind]\n",
    "    article_data = comments + \" \" + title\n",
    "    return article_data\n",
    "\n",
    "def getUserData(userHash): #user_info is a df that is a single row\n",
    "    user_info = users[users[\"userHash (S)\"] == userHash].reset_index()\n",
    "    u_data = \"\"\n",
    "    if str(user_info[\"currentLocation (S)\"][0]) != \"nan\":\n",
    "        u_data = u_data + user_info[\"currentLocation (S)\"][0] + \" \"\n",
    "    if str(user_info[\"education1location (S)\"][0]) != \"nan\":\n",
    "        u_data = u_data + user_info[\"education1location (S)\"][0] + \" \"\n",
    "    if str(user_info[\"education1name (S)\"][0]) != \"nan\":\n",
    "        u_data = u_data + user_info[\"education1name (S)\"][0] + \" \"\n",
    "    if str(user_info[\"education2location (S)\"][0]) != \"NaN\":\n",
    "        u_data = u_data + user_info[\"education2location (S)\"][0] + \" \"\n",
    "    if str(user_info[\"education2name (S)\"][0]) != \"NaN\":\n",
    "        u_data = u_data + user_info[\"education2name (S)\"][0] + \" \"\n",
    "    if str(user_info[\"education3location (S)\"][0]) != \"NaN\":\n",
    "        u_data = u_data + user_info[\"education3location (S)\"][0] + \" \"\n",
    "    if str(user_info[\"education3name (S)\"][0]) != \"NaN\":\n",
    "        u_data = u_data + user_info[\"education3name (S)\"][0] + \" \"\n",
    "    if str(user_info[\"gender (S)\"][0]) != \"NaN\":\n",
    "        u_data = u_data + user_info[\"gender (S)\"][0] + \" \"\n",
    "    if str(user_info[\"hometown (S)\"][0]) != \"NaN\":\n",
    "        u_data = u_data + user_info[\"hometown (S)\"][0] + \" \"\n",
    "    if str(user_info[\"language1 (S)\"][0]) != \"nan\":\n",
    "        u_data = u_data + str(user_info[\"language1 (S)\"][0]) + \" \"\n",
    "    if str(user_info[\"language2 (S)\"][0]) != \"nan\":\n",
    "        u_data = u_data + str(user_info[\"language2 (S)\"][0]) + \" \"\n",
    "    if str(user_info[\"language3 (S)\"][0]) != \"nan\":\n",
    "        u_data = u_data + str(user_info[\"language3 (S)\"][0]) + \" \"\n",
    "    if str(user_info[\"otherLocation1 (S)\"][0]) != \"nan\":\n",
    "        u_data = u_data + str(user_info[\"otherLocation1 (S)\"][0]) + \" \"\n",
    "    if str(user_info[\"otherLocation2 (S)\"][0]) != \"nan\":\n",
    "        u_data = u_data + str(user_info[\"otherLocation2 (S)\"][0]) + \" \"\n",
    "    if str(user_info[\"work1location (S)\"][0]) != \"nan\":\n",
    "        u_data = u_data + str(user_info[\"work1location (S)\"][0]) + \" \"\n",
    "    if str(user_info[\"work1name (S)\"][0]) != \"nan\":\n",
    "        u_data = u_data + str(user_info[\"work1name (S)\"][0]) + \" \"\n",
    "    if str(user_info[\"work1role (S)\"][0]) != \"nan\":\n",
    "        u_data = u_data + str(user_info[\"work1role (S)\"][0]) + \" \"\n",
    "    if str(user_info[\"work2location (S)\"][0]) != \"nan\":\n",
    "        u_data = u_data + str(user_info[\"work2location (S)\"][0]) + \" \"\n",
    "    if str(user_info[\"work2name (S)\"][0]) != \"nan\":\n",
    "        u_data = u_data + str(user_info[\"work2name (S)\"][0]) + \" \"\n",
    "    if str(user_info[\"work2role (S)\"][0]) != \"nan\":\n",
    "        u_data = u_data + str(user_info[\"work2role (S)\"][0]) + \" \"\n",
    "    if str(user_info[\"work3location (S)\"][0]) != \"nan\":\n",
    "        u_data = u_data + str(user_info[\"work3location (S)\"][0]) + \" \"\n",
    "    if str(user_info[\"work3name (S)\"][0]) != \"nan\":\n",
    "        u_data = u_data + str(user_info[\"work3name (S)\"][0]) + \" \"\n",
    "    if str(user_info[\"work3role (S)\"][0]) != \"nan\":\n",
    "        u_data = u_data + str(user_info[\"work3role (S)\"][0]) + \" \"\n",
    "    if str(user_info[\"work4location (S)\"][0]) != \"nan\":\n",
    "        u_data = u_data + str(user_info[\"work4location (S)\"][0]) + \" \"\n",
    "    if str(user_info[\"work4name (S)\"][0]) != \"nan\":\n",
    "        u_data = u_data + str(user_info[\"work4name (S)\"][0]) + \" \"\n",
    "    if str(user_info[\"work4role (S)\"][0]) != \"nan\":\n",
    "        u_data = u_data + str(user_info[\"work4role (S)\"][0]) + \" \"\n",
    "    return u_data"
   ]
  },
  {
   "cell_type": "code",
   "execution_count": 191,
   "metadata": {
    "collapsed": true
   },
   "outputs": [],
   "source": [
    "def getUserArticleSim(article_data, u_data):\n",
    "    docs = [article_data, u_data]\n",
    "    tfidf = TfidfVectorizer(stop_words='english')\n",
    "    output = tfidf.fit_transform(docs)\n",
    "    cosine_similarities = linear_kernel(output[0:1], output).flatten()\n",
    "    return cosine_similarities"
   ]
  },
  {
   "cell_type": "code",
   "execution_count": null,
   "metadata": {
    "collapsed": true
   },
   "outputs": [],
   "source": []
  },
  {
   "cell_type": "code",
   "execution_count": 193,
   "metadata": {
    "collapsed": true
   },
   "outputs": [],
   "source": [
    "users_userHashes = users[\"userHash (S)\"]\n",
    "articles_userHashes = articles[\"userHash (S)\"]\n",
    "valid_userHashes = list(set(users_userHashes) & set(articles_userHashes))"
   ]
  },
  {
   "cell_type": "code",
   "execution_count": null,
   "metadata": {
    "collapsed": true
   },
   "outputs": [],
   "source": []
  },
  {
   "cell_type": "code",
   "execution_count": null,
   "metadata": {
    "collapsed": true
   },
   "outputs": [],
   "source": []
  },
  {
   "cell_type": "code",
   "execution_count": null,
   "metadata": {
    "collapsed": true
   },
   "outputs": [],
   "source": []
  },
  {
   "cell_type": "code",
   "execution_count": null,
   "metadata": {
    "collapsed": true
   },
   "outputs": [],
   "source": []
  },
  {
   "cell_type": "code",
   "execution_count": 97,
   "metadata": {
    "collapsed": false
   },
   "outputs": [
    {
     "data": {
      "text/html": [
       "<div>\n",
       "<table border=\"1\" class=\"dataframe\">\n",
       "  <thead>\n",
       "    <tr style=\"text-align: right;\">\n",
       "      <th></th>\n",
       "      <th>index</th>\n",
       "      <th>userHash (S)</th>\n",
       "      <th>articleURL (S)</th>\n",
       "      <th>articleClicked (BOOL)</th>\n",
       "      <th>articleClickedTime (S)</th>\n",
       "      <th>articleComments (L)</th>\n",
       "      <th>articlePopularity (L)</th>\n",
       "      <th>articleSeenTime (L)</th>\n",
       "      <th>articleSharedTime (L)</th>\n",
       "      <th>articleTitle (S)</th>\n",
       "      <th>sharerHash (L)</th>\n",
       "    </tr>\n",
       "  </thead>\n",
       "  <tbody>\n",
       "    <tr>\n",
       "      <th>1</th>\n",
       "      <td>19</td>\n",
       "      <td>-1748993256</td>\n",
       "      <td>http://hill.cm/EOrPLMZ</td>\n",
       "      <td>False</td>\n",
       "      <td>NaN</td>\n",
       "      <td>[  { \"S\" : \"NULL\" }]</td>\n",
       "      <td>[  { \"S\" : \"3 \" }]</td>\n",
       "      <td>[  { \"S\" : \"Fri, 16 Feb 2018 15:06:00 GMT\" }]</td>\n",
       "      <td>[  { \"S\" : \"NULL\" }]</td>\n",
       "      <td>White House refused to release photo of Trump ...</td>\n",
       "      <td>[  { \"S\" : \"2407815\" }]</td>\n",
       "    </tr>\n",
       "    <tr>\n",
       "      <th>2</th>\n",
       "      <td>20</td>\n",
       "      <td>-1748993256</td>\n",
       "      <td>http://hill.cm/X9HpS96</td>\n",
       "      <td>False</td>\n",
       "      <td>NaN</td>\n",
       "      <td>[  { \"S\" : \"BREAKING: FBI officials were alert...</td>\n",
       "      <td>[  { \"S\" : \"1\" }]</td>\n",
       "      <td>[  { \"S\" : \"Fri, 16 Feb 2018 15:04:49 GMT\" }]</td>\n",
       "      <td>[  { \"S\" : \"02/15/2018 8:05am\" }]</td>\n",
       "      <td>FBI was warned last year of school shooting th...</td>\n",
       "      <td>[  { \"S\" : \"1101628624\" }]</td>\n",
       "    </tr>\n",
       "    <tr>\n",
       "      <th>3</th>\n",
       "      <td>21</td>\n",
       "      <td>-1748993256</td>\n",
       "      <td>http://stanford.io/2ClZ68d</td>\n",
       "      <td>True</td>\n",
       "      <td>Thu, 15 Feb 2018 14:32:01 GMT</td>\n",
       "      <td>[  { \"S\" : \"NULL\" }]</td>\n",
       "      <td>[  { \"S\" : \"44\" }]</td>\n",
       "      <td>[  { \"S\" : \"Thu, 15 Feb 2018 14:32:01 GMT\" }]</td>\n",
       "      <td>[  { \"S\" : \"02/15/2018 8:45am\" }]</td>\n",
       "      <td>http://stanford.io/2ClZ68d&lt;/a&gt; &lt;br&gt; &lt;a class=\"...</td>\n",
       "      <td>[  { \"S\" : \"46193696\" }]</td>\n",
       "    </tr>\n",
       "    <tr>\n",
       "      <th>4</th>\n",
       "      <td>22</td>\n",
       "      <td>-1748993256</td>\n",
       "      <td>http://t.ted.com/gmdx0iv</td>\n",
       "      <td>False</td>\n",
       "      <td>NaN</td>\n",
       "      <td>[  { \"S\" : \"Practical money advice from a self...</td>\n",
       "      <td>[  { \"S\" : \"4\" }]</td>\n",
       "      <td>[  { \"S\" : \"Fri, 16 Feb 2018 15:04:49 GMT\" }]</td>\n",
       "      <td>[  { \"S\" : \"02/16/2018 10:00am\" }]</td>\n",
       "      <td>6 simple tips for investment beginners</td>\n",
       "      <td>[  { \"S\" : \"82931\" }]</td>\n",
       "    </tr>\n",
       "    <tr>\n",
       "      <th>5</th>\n",
       "      <td>23</td>\n",
       "      <td>-1748993256</td>\n",
       "      <td>https://collegepulse.com/survey/5a85e6d386f8d3...</td>\n",
       "      <td>False</td>\n",
       "      <td>NaN</td>\n",
       "      <td>[  { \"S\" : \"NULL\" }]</td>\n",
       "      <td>[  { \"S\" : \"1\" }]</td>\n",
       "      <td>[  { \"S\" : \"Fri, 16 Feb 2018 15:04:49 GMT\" }]</td>\n",
       "      <td>[  { \"S\" : \"02/16/2018 9:40am\" }]</td>\n",
       "      <td>www.collegepulse.com&lt;/a&gt;</td>\n",
       "      <td>[  { \"S\" : \"1236633202\" }]</td>\n",
       "    </tr>\n",
       "  </tbody>\n",
       "</table>\n",
       "</div>"
      ],
      "text/plain": [
       "   index  userHash (S)                                     articleURL (S)  \\\n",
       "1     19   -1748993256                             http://hill.cm/EOrPLMZ   \n",
       "2     20   -1748993256                             http://hill.cm/X9HpS96   \n",
       "3     21   -1748993256                         http://stanford.io/2ClZ68d   \n",
       "4     22   -1748993256                           http://t.ted.com/gmdx0iv   \n",
       "5     23   -1748993256  https://collegepulse.com/survey/5a85e6d386f8d3...   \n",
       "\n",
       "  articleClicked (BOOL)         articleClickedTime (S)  \\\n",
       "1                 False                            NaN   \n",
       "2                 False                            NaN   \n",
       "3                  True  Thu, 15 Feb 2018 14:32:01 GMT   \n",
       "4                 False                            NaN   \n",
       "5                 False                            NaN   \n",
       "\n",
       "                                 articleComments (L) articlePopularity (L)  \\\n",
       "1                               [  { \"S\" : \"NULL\" }]    [  { \"S\" : \"3 \" }]   \n",
       "2  [  { \"S\" : \"BREAKING: FBI officials were alert...     [  { \"S\" : \"1\" }]   \n",
       "3                               [  { \"S\" : \"NULL\" }]    [  { \"S\" : \"44\" }]   \n",
       "4  [  { \"S\" : \"Practical money advice from a self...     [  { \"S\" : \"4\" }]   \n",
       "5                               [  { \"S\" : \"NULL\" }]     [  { \"S\" : \"1\" }]   \n",
       "\n",
       "                             articleSeenTime (L)  \\\n",
       "1  [  { \"S\" : \"Fri, 16 Feb 2018 15:06:00 GMT\" }]   \n",
       "2  [  { \"S\" : \"Fri, 16 Feb 2018 15:04:49 GMT\" }]   \n",
       "3  [  { \"S\" : \"Thu, 15 Feb 2018 14:32:01 GMT\" }]   \n",
       "4  [  { \"S\" : \"Fri, 16 Feb 2018 15:04:49 GMT\" }]   \n",
       "5  [  { \"S\" : \"Fri, 16 Feb 2018 15:04:49 GMT\" }]   \n",
       "\n",
       "                articleSharedTime (L)  \\\n",
       "1                [  { \"S\" : \"NULL\" }]   \n",
       "2   [  { \"S\" : \"02/15/2018 8:05am\" }]   \n",
       "3   [  { \"S\" : \"02/15/2018 8:45am\" }]   \n",
       "4  [  { \"S\" : \"02/16/2018 10:00am\" }]   \n",
       "5   [  { \"S\" : \"02/16/2018 9:40am\" }]   \n",
       "\n",
       "                                    articleTitle (S)  \\\n",
       "1  White House refused to release photo of Trump ...   \n",
       "2  FBI was warned last year of school shooting th...   \n",
       "3  http://stanford.io/2ClZ68d</a> <br> <a class=\"...   \n",
       "4             6 simple tips for investment beginners   \n",
       "5                           www.collegepulse.com</a>   \n",
       "\n",
       "               sharerHash (L)  \n",
       "1     [  { \"S\" : \"2407815\" }]  \n",
       "2  [  { \"S\" : \"1101628624\" }]  \n",
       "3    [  { \"S\" : \"46193696\" }]  \n",
       "4       [  { \"S\" : \"82931\" }]  \n",
       "5  [  { \"S\" : \"1236633202\" }]  "
      ]
     },
     "execution_count": 97,
     "metadata": {},
     "output_type": "execute_result"
    }
   ],
   "source": [
    "forgraph.head(n=5)"
   ]
  },
  {
   "cell_type": "code",
   "execution_count": 134,
   "metadata": {
    "collapsed": false
   },
   "outputs": [],
   "source": [
    "temp = forgraph[forgraph[\"userHash (S)\"] == 1832382593].reset_index()"
   ]
  },
  {
   "cell_type": "code",
   "execution_count": 135,
   "metadata": {
    "collapsed": false
   },
   "outputs": [
    {
     "data": {
      "text/html": [
       "<div>\n",
       "<table border=\"1\" class=\"dataframe\">\n",
       "  <thead>\n",
       "    <tr style=\"text-align: right;\">\n",
       "      <th></th>\n",
       "      <th>level_0</th>\n",
       "      <th>index</th>\n",
       "      <th>userHash (S)</th>\n",
       "      <th>articleURL (S)</th>\n",
       "      <th>articleClicked (BOOL)</th>\n",
       "      <th>articleClickedTime (S)</th>\n",
       "      <th>articleComments (L)</th>\n",
       "      <th>articlePopularity (L)</th>\n",
       "      <th>articleSeenTime (L)</th>\n",
       "      <th>articleSharedTime (L)</th>\n",
       "      <th>articleTitle (S)</th>\n",
       "      <th>sharerHash (L)</th>\n",
       "    </tr>\n",
       "  </thead>\n",
       "  <tbody>\n",
       "    <tr>\n",
       "      <th>0</th>\n",
       "      <td>484</td>\n",
       "      <td>901</td>\n",
       "      <td>1832382593</td>\n",
       "      <td>http://b-gat.es/2CrhoVv</td>\n",
       "      <td>True</td>\n",
       "      <td>Mon, 19 Feb 2018 22:16:44 GMT</td>\n",
       "      <td>[  { \"S\" : \"NULL\" }]</td>\n",
       "      <td>[  { \"S\" : \"18K\" }]</td>\n",
       "      <td>[  { \"S\" : \"Mon, 19 Feb 2018 22:16:44 GMT\" }]</td>\n",
       "      <td>[  { \"S\" : \"02/18/2018 8:40am\" }]</td>\n",
       "      <td>http://b-gat.es/2CrhoVv&lt;/a&gt;</td>\n",
       "      <td>[  { \"S\" : \"701632431\" }]</td>\n",
       "    </tr>\n",
       "    <tr>\n",
       "      <th>1</th>\n",
       "      <td>485</td>\n",
       "      <td>902</td>\n",
       "      <td>1832382593</td>\n",
       "      <td>http://bit.ly/2Bdkm36</td>\n",
       "      <td>False</td>\n",
       "      <td>NaN</td>\n",
       "      <td>[  { \"S\" : \"ItÛªs our big spring drop: 260 ne...</td>\n",
       "      <td>[  { \"S\" : \"5\" }]</td>\n",
       "      <td>[  { \"S\" : \"Thu, 08 Feb 2018 23:05:25 GMT\" }]</td>\n",
       "      <td>[  { \"S\" : \"feed_story_id_5a7cd484d17731b29939...</td>\n",
       "      <td>Up to 50% Off New Arrivals</td>\n",
       "      <td>[  { \"S\" : \"-502270865\" }]</td>\n",
       "    </tr>\n",
       "    <tr>\n",
       "      <th>2</th>\n",
       "      <td>486</td>\n",
       "      <td>903</td>\n",
       "      <td>1832382593</td>\n",
       "      <td>http://bit.ly/2E85ul7</td>\n",
       "      <td>True</td>\n",
       "      <td>Mon, 19 Feb 2018 22:05:12 GMT</td>\n",
       "      <td>[  { \"S\" : \"NULL\" }]</td>\n",
       "      <td>[  { \"S\" : \"59\" }]</td>\n",
       "      <td>[  { \"S\" : \"Mon, 19 Feb 2018 22:05:12 GMT\" }]</td>\n",
       "      <td>[  { \"S\" : \"02/19/2018 7:05am\" }]</td>\n",
       "      <td>http://bit.ly/2E85ul7&lt;/a&gt;&lt;br&gt; Follow &lt;a class=...</td>\n",
       "      <td>[  { \"S\" : \"924107392\" }]</td>\n",
       "    </tr>\n",
       "    <tr>\n",
       "      <th>3</th>\n",
       "      <td>487</td>\n",
       "      <td>904</td>\n",
       "      <td>1832382593</td>\n",
       "      <td>http://bit.ly/2EOZqle</td>\n",
       "      <td>True</td>\n",
       "      <td>Sun, 18 Feb 2018 06:55:42 GMT</td>\n",
       "      <td>[  { \"S\" : \"¨_ø¨±ø¨±ø¨»ø¨»¨ø¨£ ...</td>\n",
       "      <td>[  { \"S\" : \"1.4K\" }]</td>\n",
       "      <td>[  { \"S\" : \"Sun, 18 Feb 2018 06:55:42 GMT\" }]</td>\n",
       "      <td>[  { \"S\" : \"02/17/2018 4:26am\" }]</td>\n",
       "      <td>¨_ø¨±ø¨±ø¨»ø¨»¨ø¨£ ¨µ¨À¨µ¨¡...</td>\n",
       "      <td>[  { \"S\" : \"947973233\" }]</td>\n",
       "    </tr>\n",
       "    <tr>\n",
       "      <th>4</th>\n",
       "      <td>488</td>\n",
       "      <td>906</td>\n",
       "      <td>1832382593</td>\n",
       "      <td>http://bit.ly/2FgTEGU</td>\n",
       "      <td>True</td>\n",
       "      <td>Mon, 19 Feb 2018 22:19:45 GMT</td>\n",
       "      <td>[  { \"S\" : \"NULL\" }]</td>\n",
       "      <td>[  { \"S\" : \"2.1K\" }]</td>\n",
       "      <td>[  { \"S\" : \"Mon, 19 Feb 2018 22:19:45 GMT\" }]</td>\n",
       "      <td>[  { \"S\" : \"02/19/2018 12:13am\" }]</td>\n",
       "      <td>http://bit.ly/2FgTEGU&lt;/a&gt;&lt;/p&gt;&lt;p&gt; &lt;a class=\"_58...</td>\n",
       "      <td>[  { \"S\" : \"1036936401\" }]</td>\n",
       "    </tr>\n",
       "    <tr>\n",
       "      <th>5</th>\n",
       "      <td>489</td>\n",
       "      <td>907</td>\n",
       "      <td>1832382593</td>\n",
       "      <td>http://bit.ly/2nR9LT8</td>\n",
       "      <td>True</td>\n",
       "      <td>Sat, 17 Feb 2018 02:34:52 GMT</td>\n",
       "      <td>[  { \"S\" : \"NULL\" }]</td>\n",
       "      <td>[  { \"S\" : \"168\" }]</td>\n",
       "      <td>[  { \"S\" : \"Sat, 17 Feb 2018 02:34:52 GMT\" }]</td>\n",
       "      <td>[  { \"S\" : \"02/15/2018 10:39pm\" }]</td>\n",
       "      <td>http://bit.ly/2nR9LT8&lt;/a&gt; &lt;a class=\"_58cn\" hre...</td>\n",
       "      <td>[  { \"S\" : \"537185968\" }]</td>\n",
       "    </tr>\n",
       "    <tr>\n",
       "      <th>6</th>\n",
       "      <td>490</td>\n",
       "      <td>908</td>\n",
       "      <td>1832382593</td>\n",
       "      <td>http://bit.ly/2wvO91N</td>\n",
       "      <td>True</td>\n",
       "      <td>Thu, 08 Feb 2018 19:27:45 GMT</td>\n",
       "      <td>[  { \"S\" : \"NULL\" }]</td>\n",
       "      <td>[  { \"S\" : \"96\" }]</td>\n",
       "      <td>[  { \"S\" : \"Thu, 08 Feb 2018 19:27:45 GMT\" }]</td>\n",
       "      <td>[  { \"S\" : \"02/07/2018 9:01am\" }]</td>\n",
       "      <td>http://bit.ly/2wvO91N&lt;/a&gt;</td>\n",
       "      <td>[  { \"S\" : \"-1950162835\" }]</td>\n",
       "    </tr>\n",
       "    <tr>\n",
       "      <th>7</th>\n",
       "      <td>491</td>\n",
       "      <td>909</td>\n",
       "      <td>1832382593</td>\n",
       "      <td>http://cnn.it/2F85x1B</td>\n",
       "      <td>False</td>\n",
       "      <td>NaN</td>\n",
       "      <td>[  { \"S\" : \"A former Playboy model who says sh...</td>\n",
       "      <td>[  { \"S\" : \"4.3K\" }]</td>\n",
       "      <td>[  { \"S\" : \"Fri, 16 Feb 2018 16:40:12 GMT\" }]</td>\n",
       "      <td>[  { \"S\" : \"02/16/2018 6:00am\" }]</td>\n",
       "      <td>Ex-model details Trump system for covering up ...</td>\n",
       "      <td>[  { \"S\" : \"66883\" }]</td>\n",
       "    </tr>\n",
       "    <tr>\n",
       "      <th>8</th>\n",
       "      <td>492</td>\n",
       "      <td>911</td>\n",
       "      <td>1832382593</td>\n",
       "      <td>http://cnn.it/2nP55NA</td>\n",
       "      <td>True</td>\n",
       "      <td>Thu, 08 Feb 2018 19:20:11 GMT</td>\n",
       "      <td>[  { \"S\" : \"NULL\" }]</td>\n",
       "      <td>[  { \"S\" : \"2.4K \" }]</td>\n",
       "      <td>[  { \"S\" : \"Thu, 08 Feb 2018 19:20:11 GMT\" }]</td>\n",
       "      <td>[  { \"S\" : \"02/08/2018 4:31am\" }]</td>\n",
       "      <td>http://cnn.it/2nP55NA&lt;/a&gt;</td>\n",
       "      <td>[  { \"S\" : \"66883\" }]</td>\n",
       "    </tr>\n",
       "    <tr>\n",
       "      <th>9</th>\n",
       "      <td>493</td>\n",
       "      <td>912</td>\n",
       "      <td>1832382593</td>\n",
       "      <td>http://garammasalakitchen.com/punjabi-kadhi-ch...</td>\n",
       "      <td>True</td>\n",
       "      <td>Mon, 19 Feb 2018 07:42:13 GMT</td>\n",
       "      <td>[  { \"S\" : \"NULL\" }]</td>\n",
       "      <td>[  { \"S\" : \"24\" }]</td>\n",
       "      <td>[  { \"S\" : \"Mon, 19 Feb 2018 07:42:09 GMT\" }]</td>\n",
       "      <td>[  { \"S\" : \"02/18/2018 9:12am\" }]</td>\n",
       "      <td>https://www.pinterest.com/garammasalakitchen/p...</td>\n",
       "      <td>[  { \"S\" : \"744424215\" }]</td>\n",
       "    </tr>\n",
       "  </tbody>\n",
       "</table>\n",
       "</div>"
      ],
      "text/plain": [
       "   level_0  index  userHash (S)  \\\n",
       "0      484    901    1832382593   \n",
       "1      485    902    1832382593   \n",
       "2      486    903    1832382593   \n",
       "3      487    904    1832382593   \n",
       "4      488    906    1832382593   \n",
       "5      489    907    1832382593   \n",
       "6      490    908    1832382593   \n",
       "7      491    909    1832382593   \n",
       "8      492    911    1832382593   \n",
       "9      493    912    1832382593   \n",
       "\n",
       "                                      articleURL (S) articleClicked (BOOL)  \\\n",
       "0                            http://b-gat.es/2CrhoVv                  True   \n",
       "1                              http://bit.ly/2Bdkm36                 False   \n",
       "2                              http://bit.ly/2E85ul7                  True   \n",
       "3                              http://bit.ly/2EOZqle                  True   \n",
       "4                              http://bit.ly/2FgTEGU                  True   \n",
       "5                              http://bit.ly/2nR9LT8                  True   \n",
       "6                              http://bit.ly/2wvO91N                  True   \n",
       "7                              http://cnn.it/2F85x1B                 False   \n",
       "8                              http://cnn.it/2nP55NA                  True   \n",
       "9  http://garammasalakitchen.com/punjabi-kadhi-ch...                  True   \n",
       "\n",
       "          articleClickedTime (S)  \\\n",
       "0  Mon, 19 Feb 2018 22:16:44 GMT   \n",
       "1                            NaN   \n",
       "2  Mon, 19 Feb 2018 22:05:12 GMT   \n",
       "3  Sun, 18 Feb 2018 06:55:42 GMT   \n",
       "4  Mon, 19 Feb 2018 22:19:45 GMT   \n",
       "5  Sat, 17 Feb 2018 02:34:52 GMT   \n",
       "6  Thu, 08 Feb 2018 19:27:45 GMT   \n",
       "7                            NaN   \n",
       "8  Thu, 08 Feb 2018 19:20:11 GMT   \n",
       "9  Mon, 19 Feb 2018 07:42:13 GMT   \n",
       "\n",
       "                                 articleComments (L)  articlePopularity (L)  \\\n",
       "0                               [  { \"S\" : \"NULL\" }]    [  { \"S\" : \"18K\" }]   \n",
       "1  [  { \"S\" : \"ItÛªs our big spring drop: 260 ne...      [  { \"S\" : \"5\" }]   \n",
       "2                               [  { \"S\" : \"NULL\" }]     [  { \"S\" : \"59\" }]   \n",
       "3  [  { \"S\" : \"¨_ø¨±ø¨±ø¨»ø¨»¨ø¨£ ...   [  { \"S\" : \"1.4K\" }]   \n",
       "4                               [  { \"S\" : \"NULL\" }]   [  { \"S\" : \"2.1K\" }]   \n",
       "5                               [  { \"S\" : \"NULL\" }]    [  { \"S\" : \"168\" }]   \n",
       "6                               [  { \"S\" : \"NULL\" }]     [  { \"S\" : \"96\" }]   \n",
       "7  [  { \"S\" : \"A former Playboy model who says sh...   [  { \"S\" : \"4.3K\" }]   \n",
       "8                               [  { \"S\" : \"NULL\" }]  [  { \"S\" : \"2.4K \" }]   \n",
       "9                               [  { \"S\" : \"NULL\" }]     [  { \"S\" : \"24\" }]   \n",
       "\n",
       "                             articleSeenTime (L)  \\\n",
       "0  [  { \"S\" : \"Mon, 19 Feb 2018 22:16:44 GMT\" }]   \n",
       "1  [  { \"S\" : \"Thu, 08 Feb 2018 23:05:25 GMT\" }]   \n",
       "2  [  { \"S\" : \"Mon, 19 Feb 2018 22:05:12 GMT\" }]   \n",
       "3  [  { \"S\" : \"Sun, 18 Feb 2018 06:55:42 GMT\" }]   \n",
       "4  [  { \"S\" : \"Mon, 19 Feb 2018 22:19:45 GMT\" }]   \n",
       "5  [  { \"S\" : \"Sat, 17 Feb 2018 02:34:52 GMT\" }]   \n",
       "6  [  { \"S\" : \"Thu, 08 Feb 2018 19:27:45 GMT\" }]   \n",
       "7  [  { \"S\" : \"Fri, 16 Feb 2018 16:40:12 GMT\" }]   \n",
       "8  [  { \"S\" : \"Thu, 08 Feb 2018 19:20:11 GMT\" }]   \n",
       "9  [  { \"S\" : \"Mon, 19 Feb 2018 07:42:09 GMT\" }]   \n",
       "\n",
       "                               articleSharedTime (L)  \\\n",
       "0                  [  { \"S\" : \"02/18/2018 8:40am\" }]   \n",
       "1  [  { \"S\" : \"feed_story_id_5a7cd484d17731b29939...   \n",
       "2                  [  { \"S\" : \"02/19/2018 7:05am\" }]   \n",
       "3                  [  { \"S\" : \"02/17/2018 4:26am\" }]   \n",
       "4                 [  { \"S\" : \"02/19/2018 12:13am\" }]   \n",
       "5                 [  { \"S\" : \"02/15/2018 10:39pm\" }]   \n",
       "6                  [  { \"S\" : \"02/07/2018 9:01am\" }]   \n",
       "7                  [  { \"S\" : \"02/16/2018 6:00am\" }]   \n",
       "8                  [  { \"S\" : \"02/08/2018 4:31am\" }]   \n",
       "9                  [  { \"S\" : \"02/18/2018 9:12am\" }]   \n",
       "\n",
       "                                    articleTitle (S)  \\\n",
       "0                        http://b-gat.es/2CrhoVv</a>   \n",
       "1                         Up to 50% Off New Arrivals   \n",
       "2  http://bit.ly/2E85ul7</a><br> Follow <a class=...   \n",
       "3  ¨_ø¨±ø¨±ø¨»ø¨»¨ø¨£ ¨µ¨À¨µ¨¡...   \n",
       "4  http://bit.ly/2FgTEGU</a></p><p> <a class=\"_58...   \n",
       "5  http://bit.ly/2nR9LT8</a> <a class=\"_58cn\" hre...   \n",
       "6                          http://bit.ly/2wvO91N</a>   \n",
       "7  Ex-model details Trump system for covering up ...   \n",
       "8                          http://cnn.it/2nP55NA</a>   \n",
       "9  https://www.pinterest.com/garammasalakitchen/p...   \n",
       "\n",
       "                sharerHash (L)  \n",
       "0    [  { \"S\" : \"701632431\" }]  \n",
       "1   [  { \"S\" : \"-502270865\" }]  \n",
       "2    [  { \"S\" : \"924107392\" }]  \n",
       "3    [  { \"S\" : \"947973233\" }]  \n",
       "4   [  { \"S\" : \"1036936401\" }]  \n",
       "5    [  { \"S\" : \"537185968\" }]  \n",
       "6  [  { \"S\" : \"-1950162835\" }]  \n",
       "7        [  { \"S\" : \"66883\" }]  \n",
       "8        [  { \"S\" : \"66883\" }]  \n",
       "9    [  { \"S\" : \"744424215\" }]  "
      ]
     },
     "execution_count": 135,
     "metadata": {},
     "output_type": "execute_result"
    }
   ],
   "source": [
    "temp.head(n=10)"
   ]
  },
  {
   "cell_type": "code",
   "execution_count": 136,
   "metadata": {
    "collapsed": true
   },
   "outputs": [],
   "source": [
    "# get article data\n",
    "comments = ast.literal_eval(temp[\"articleComments (L)\"][7])[0].get(\"S\")\n",
    "title = temp[\"articleTitle (S)\"][7]\n",
    "article_data = comments + \" \" + title"
   ]
  },
  {
   "cell_type": "code",
   "execution_count": 137,
   "metadata": {
    "collapsed": false
   },
   "outputs": [
    {
     "data": {
      "text/plain": [
       "'A former Playboy model who says she had an affair with <a class=\"profileLink\" href=\"https://www.facebook.com/DonaldTrump/?fref=mentions\" data-hovercard=\"/ajax/hovercard/page.php?id=153080620724&amp;extragetparams=%7B%22fref%22%3A%22mentions%22%7D\" data-hovercard-prefer-more-content-show=\"1\">Donald J. Trump</a> beginning in 2006 is going public with a description of Trump\\'s alleged system for concealing affairs. Ex-model details Trump system for covering up affairs'"
      ]
     },
     "execution_count": 137,
     "metadata": {},
     "output_type": "execute_result"
    }
   ],
   "source": [
    "article_data"
   ]
  },
  {
   "cell_type": "code",
   "execution_count": 138,
   "metadata": {
    "collapsed": false
   },
   "outputs": [],
   "source": [
    "# tokenize\n",
    "translator = str.maketrans('', '', string.punctuation)\n",
    "article_data = article_data.lower().translate(translator) \n",
    "tokens = nltk.word_tokenize(article_data)"
   ]
  },
  {
   "cell_type": "code",
   "execution_count": 139,
   "metadata": {
    "collapsed": false
   },
   "outputs": [],
   "source": [
    "# remove stopwords\n",
    "filtered_tokens = [w for w in tokens if not w in stopwords.words('english')]"
   ]
  },
  {
   "cell_type": "code",
   "execution_count": 140,
   "metadata": {
    "collapsed": false
   },
   "outputs": [],
   "source": [
    "# stem\n",
    "stemmer = PorterStemmer()\n",
    "stemmed_tokens = []\n",
    "for item in filtered_tokens:\n",
    "    stemmed_tokens.append(stemmer.stem(item))"
   ]
  },
  {
   "cell_type": "code",
   "execution_count": 141,
   "metadata": {
    "collapsed": false
   },
   "outputs": [
    {
     "data": {
      "text/plain": [
       "Counter({'2006': 1,\n",
       "         'affair': 3,\n",
       "         'alleg': 1,\n",
       "         'begin': 1,\n",
       "         'classprofilelink': 1,\n",
       "         'conceal': 1,\n",
       "         'cover': 1,\n",
       "         'datahovercardajaxhovercardpagephpid153080620724ampextragetparams7b22fref223a22mentions227d': 1,\n",
       "         'datahovercardprefermorecontentshow1donald': 1,\n",
       "         'descript': 1,\n",
       "         'detail': 1,\n",
       "         'exmodel': 1,\n",
       "         'former': 1,\n",
       "         'go': 1,\n",
       "         'hrefhttpswwwfacebookcomdonaldtrumpfrefment': 1,\n",
       "         'j': 1,\n",
       "         'model': 1,\n",
       "         'playboy': 1,\n",
       "         'public': 1,\n",
       "         'say': 1,\n",
       "         'system': 2,\n",
       "         'trump': 2,\n",
       "         'trumpa': 1})"
      ]
     },
     "execution_count": 141,
     "metadata": {},
     "output_type": "execute_result"
    }
   ],
   "source": [
    "Counter(stemmed_tokens)"
   ]
  },
  {
   "cell_type": "code",
   "execution_count": 144,
   "metadata": {
    "collapsed": false
   },
   "outputs": [],
   "source": [
    "user_info = users[users[\"userHash (S)\"] == 1832382593].reset_index()"
   ]
  },
  {
   "cell_type": "code",
   "execution_count": 164,
   "metadata": {
    "collapsed": false
   },
   "outputs": [],
   "source": [
    "# get user data\n",
    "u_data = \"\"\n",
    "if str(user_info[\"currentLocation (S)\"][0]) != \"nan\":\n",
    "    u_data = u_data + user_info[\"currentLocation (S)\"][0] + \" \"\n",
    "if str(user_info[\"education1location (S)\"][0]) != \"nan\":\n",
    "    u_data = u_data + user_info[\"education1location (S)\"][0] + \" \"\n",
    "if str(user_info[\"education1name (S)\"][0]) != \"nan\":\n",
    "    u_data = u_data + user_info[\"education1name (S)\"][0] + \" \"\n",
    "if str(user_info[\"education2location (S)\"][0]) != \"NaN\":\n",
    "    u_data = u_data + user_info[\"education2location (S)\"][0] + \" \"\n",
    "if str(user_info[\"education2name (S)\"][0]) != \"NaN\":\n",
    "    u_data = u_data + user_info[\"education2name (S)\"][0] + \" \"\n",
    "if str(user_info[\"education3location (S)\"][0]) != \"NaN\":\n",
    "    u_data = u_data + user_info[\"education3location (S)\"][0] + \" \"\n",
    "if str(user_info[\"education3name (S)\"][0]) != \"NaN\":\n",
    "    u_data = u_data + user_info[\"education3name (S)\"][0] + \" \"\n",
    "if str(user_info[\"gender (S)\"][0]) != \"NaN\":\n",
    "    u_data = u_data + user_info[\"gender (S)\"][0] + \" \"\n",
    "if str(user_info[\"hometown (S)\"][0]) != \"NaN\":\n",
    "    u_data = u_data + user_info[\"hometown (S)\"][0] + \" \"\n",
    "if str(user_info[\"language1 (S)\"][0]) != \"nan\":\n",
    "    u_data = u_data + str(user_info[\"language1 (S)\"][0]) + \" \"\n",
    "if str(user_info[\"language2 (S)\"][0]) != \"nan\":\n",
    "    u_data = u_data + str(user_info[\"language2 (S)\"][0]) + \" \"\n",
    "if str(user_info[\"language3 (S)\"][0]) != \"nan\":\n",
    "    u_data = u_data + str(user_info[\"language3 (S)\"][0]) + \" \"\n",
    "if str(user_info[\"otherLocation1 (S)\"][0]) != \"nan\":\n",
    "    u_data = u_data + str(user_info[\"otherLocation1 (S)\"][0]) + \" \"\n",
    "if str(user_info[\"otherLocation2 (S)\"][0]) != \"nan\":\n",
    "    u_data = u_data + str(user_info[\"otherLocation2 (S)\"][0]) + \" \"\n",
    "if str(user_info[\"work1location (S)\"][0]) != \"nan\":\n",
    "    u_data = u_data + str(user_info[\"work1location (S)\"][0]) + \" \"\n",
    "if str(user_info[\"work1name (S)\"][0]) != \"nan\":\n",
    "    u_data = u_data + str(user_info[\"work1name (S)\"][0]) + \" \"\n",
    "if str(user_info[\"work1role (S)\"][0]) != \"nan\":\n",
    "    u_data = u_data + str(user_info[\"work1role (S)\"][0]) + \" \"\n",
    "if str(user_info[\"work2location (S)\"][0]) != \"nan\":\n",
    "    u_data = u_data + str(user_info[\"work2location (S)\"][0]) + \" \"\n",
    "if str(user_info[\"work2name (S)\"][0]) != \"nan\":\n",
    "    u_data = u_data + str(user_info[\"work2name (S)\"][0]) + \" \"\n",
    "if str(user_info[\"work2role (S)\"][0]) != \"nan\":\n",
    "    u_data = u_data + str(user_info[\"work2role (S)\"][0]) + \" \"\n",
    "if str(user_info[\"work3location (S)\"][0]) != \"nan\":\n",
    "    u_data = u_data + str(user_info[\"work3location (S)\"][0]) + \" \"\n",
    "if str(user_info[\"work3name (S)\"][0]) != \"nan\":\n",
    "    u_data = u_data + str(user_info[\"work3name (S)\"][0]) + \" \"\n",
    "if str(user_info[\"work3role (S)\"][0]) != \"nan\":\n",
    "    u_data = u_data + str(user_info[\"work3role (S)\"][0]) + \" \"\n",
    "if str(user_info[\"work4location (S)\"][0]) != \"nan\":\n",
    "    u_data = u_data + str(user_info[\"work4location (S)\"][0]) + \" \"\n",
    "if str(user_info[\"work4name (S)\"][0]) != \"nan\":\n",
    "    u_data = u_data + str(user_info[\"work4name (S)\"][0]) + \" \"\n",
    "if str(user_info[\"work4role (S)\"][0]) != \"nan\":\n",
    "    u_data = u_data + str(user_info[\"work4role (S)\"][0]) + \" \""
   ]
  },
  {
   "cell_type": "code",
   "execution_count": 177,
   "metadata": {
    "collapsed": false
   },
   "outputs": [],
   "source": [
    "u_data = getUserData(1832382593)"
   ]
  },
  {
   "cell_type": "code",
   "execution_count": 179,
   "metadata": {
    "collapsed": false
   },
   "outputs": [
    {
     "data": {
      "text/plain": [
       "Counter({'anna': 1,\n",
       "         'chennai': 2,\n",
       "         'colleg': 1,\n",
       "         'engin': 1,\n",
       "         'femal': 1,\n",
       "         'guindi': 1,\n",
       "         'india': 4,\n",
       "         'ladi': 1,\n",
       "         'mctm': 1,\n",
       "         'ohio': 1,\n",
       "         'sammamish': 1,\n",
       "         'school': 1,\n",
       "         'state': 1,\n",
       "         'univers': 2,\n",
       "         'wa': 1})"
      ]
     },
     "execution_count": 179,
     "metadata": {},
     "output_type": "execute_result"
    }
   ],
   "source": [
    "Counter(stem(removeStopwords(tokenize(u_data))))"
   ]
  },
  {
   "cell_type": "code",
   "execution_count": 180,
   "metadata": {
    "collapsed": false
   },
   "outputs": [
    {
     "data": {
      "text/plain": [
       "'a former playboy model who says she had an affair with a classprofilelink hrefhttpswwwfacebookcomdonaldtrumpfrefmentions datahovercardajaxhovercardpagephpid153080620724ampextragetparams7b22fref223a22mentions227d datahovercardprefermorecontentshow1donald j trumpa beginning in 2006 is going public with a description of trumps alleged system for concealing affairs exmodel details trump system for covering up affairs'"
      ]
     },
     "execution_count": 180,
     "metadata": {},
     "output_type": "execute_result"
    }
   ],
   "source": [
    "article_data"
   ]
  },
  {
   "cell_type": "code",
   "execution_count": 181,
   "metadata": {
    "collapsed": false
   },
   "outputs": [
    {
     "data": {
      "text/plain": [
       "'Sammamish, WA India College of Engineering, Guindy, Anna University India The Ohio State University Chennai, India Lady M.CT.M. School Female Chennai, India '"
      ]
     },
     "execution_count": 181,
     "metadata": {},
     "output_type": "execute_result"
    }
   ],
   "source": [
    "u_data"
   ]
  },
  {
   "cell_type": "code",
   "execution_count": 182,
   "metadata": {
    "collapsed": true
   },
   "outputs": [],
   "source": [
    "docs = [article_data, u_data]\n",
    "tfidf = TfidfVectorizer(stop_words='english')\n",
    "output = tfidf.fit_transform(docs)\n",
    "cosine_similarities = linear_kernel(output[0:1], output).flatten()"
   ]
  },
  {
   "cell_type": "code",
   "execution_count": 61,
   "metadata": {
    "collapsed": false
   },
   "outputs": [],
   "source": [
    "tfidf = TfidfVectorizer(stop_words='english')"
   ]
  },
  {
   "cell_type": "code",
   "execution_count": 183,
   "metadata": {
    "collapsed": true
   },
   "outputs": [],
   "source": [
    "output = tfidf.fit_transform(docs)"
   ]
  },
  {
   "cell_type": "code",
   "execution_count": 186,
   "metadata": {
    "collapsed": false
   },
   "outputs": [
    {
     "data": {
      "text/plain": [
       "<1x37 sparse matrix of type '<class 'numpy.float64'>'\n",
       "\twith 22 stored elements in Compressed Sparse Row format>"
      ]
     },
     "execution_count": 186,
     "metadata": {},
     "output_type": "execute_result"
    }
   ],
   "source": [
    "output[0:1]"
   ]
  },
  {
   "cell_type": "code",
   "execution_count": 188,
   "metadata": {
    "collapsed": true
   },
   "outputs": [],
   "source": [
    "cosine_similarities = linear_kernel(output[0:1], output).flatten()"
   ]
  },
  {
   "cell_type": "code",
   "execution_count": 189,
   "metadata": {
    "collapsed": false
   },
   "outputs": [
    {
     "data": {
      "text/plain": [
       "array([ 1.,  0.])"
      ]
     },
     "execution_count": 189,
     "metadata": {},
     "output_type": "execute_result"
    }
   ],
   "source": [
    "cosine_similarities"
   ]
  },
  {
   "cell_type": "code",
   "execution_count": null,
   "metadata": {
    "collapsed": true
   },
   "outputs": [],
   "source": []
  }
 ],
 "metadata": {
  "kernelspec": {
   "display_name": "Python 3",
   "language": "python",
   "name": "python3"
  },
  "language_info": {
   "codemirror_mode": {
    "name": "ipython",
    "version": 3
   },
   "file_extension": ".py",
   "mimetype": "text/x-python",
   "name": "python",
   "nbconvert_exporter": "python",
   "pygments_lexer": "ipython3",
   "version": "3.5.4"
  }
 },
 "nbformat": 4,
 "nbformat_minor": 0
}
