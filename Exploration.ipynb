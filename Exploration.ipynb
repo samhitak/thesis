{
 "cells": [
  {
   "cell_type": "code",
   "execution_count": 2,
   "metadata": {
    "collapsed": false
   },
   "outputs": [],
   "source": [
    "import pandas as pd\n",
    "import numpy as np"
   ]
  },
  {
   "cell_type": "code",
   "execution_count": 16,
   "metadata": {
    "collapsed": false
   },
   "outputs": [],
   "source": [
    "users = pd.read_csv('2018_02_20_Users.csv', encoding = \"ISO-8859-1\")"
   ]
  },
  {
   "cell_type": "code",
   "execution_count": 19,
   "metadata": {
    "collapsed": false
   },
   "outputs": [
    {
     "data": {
      "text/html": [
       "<div>\n",
       "<table border=\"1\" class=\"dataframe\">\n",
       "  <thead>\n",
       "    <tr style=\"text-align: right;\">\n",
       "      <th></th>\n",
       "      <th>userHash (S)</th>\n",
       "      <th>currentLocation (S)</th>\n",
       "      <th>education1location (S)</th>\n",
       "      <th>education1name (S)</th>\n",
       "      <th>education2location (S)</th>\n",
       "      <th>education2name (S)</th>\n",
       "      <th>education3location (S)</th>\n",
       "      <th>education3name (S)</th>\n",
       "      <th>gender (S)</th>\n",
       "      <th>hometown (S)</th>\n",
       "      <th>...</th>\n",
       "      <th>work1role (S)</th>\n",
       "      <th>work2location (S)</th>\n",
       "      <th>work2name (S)</th>\n",
       "      <th>work2role (S)</th>\n",
       "      <th>work3location (S)</th>\n",
       "      <th>work3name (S)</th>\n",
       "      <th>work3role (S)</th>\n",
       "      <th>work4location (S)</th>\n",
       "      <th>work4name (S)</th>\n",
       "      <th>work4role (S)</th>\n",
       "    </tr>\n",
       "  </thead>\n",
       "  <tbody>\n",
       "    <tr>\n",
       "      <th>0</th>\n",
       "      <td>-318129462</td>\n",
       "      <td>NaN</td>\n",
       "      <td>NaN</td>\n",
       "      <td>NaN</td>\n",
       "      <td>NaN</td>\n",
       "      <td>NaN</td>\n",
       "      <td>NaN</td>\n",
       "      <td>NaN</td>\n",
       "      <td>Female</td>\n",
       "      <td>NaN</td>\n",
       "      <td>...</td>\n",
       "      <td>NaN</td>\n",
       "      <td>NaN</td>\n",
       "      <td>NaN</td>\n",
       "      <td>NaN</td>\n",
       "      <td>NaN</td>\n",
       "      <td>NaN</td>\n",
       "      <td>NaN</td>\n",
       "      <td>NaN</td>\n",
       "      <td>NaN</td>\n",
       "      <td>NaN</td>\n",
       "    </tr>\n",
       "    <tr>\n",
       "      <th>1</th>\n",
       "      <td>635926102</td>\n",
       "      <td>NaN</td>\n",
       "      <td>Redmond, Washington</td>\n",
       "      <td>Redmond High School</td>\n",
       "      <td>Redmond, Washington</td>\n",
       "      <td>University of Washington</td>\n",
       "      <td>NaN</td>\n",
       "      <td>NaN</td>\n",
       "      <td>Male</td>\n",
       "      <td>NaN</td>\n",
       "      <td>...</td>\n",
       "      <td>Software Developer</td>\n",
       "      <td>San Jose, CA</td>\n",
       "      <td>Cisco</td>\n",
       "      <td>Software Engineering Intern</td>\n",
       "      <td>Seattle, WA</td>\n",
       "      <td>Seattle Youth Symphony Orchestra</td>\n",
       "      <td>Data entry clerk</td>\n",
       "      <td>NaN</td>\n",
       "      <td>NaN</td>\n",
       "      <td>NaN</td>\n",
       "    </tr>\n",
       "    <tr>\n",
       "      <th>2</th>\n",
       "      <td>-1748993256</td>\n",
       "      <td>NaN</td>\n",
       "      <td>NaN</td>\n",
       "      <td>NaN</td>\n",
       "      <td>NaN</td>\n",
       "      <td>NaN</td>\n",
       "      <td>NaN</td>\n",
       "      <td>NaN</td>\n",
       "      <td>Female</td>\n",
       "      <td>NaN</td>\n",
       "      <td>...</td>\n",
       "      <td>NaN</td>\n",
       "      <td>NaN</td>\n",
       "      <td>NaN</td>\n",
       "      <td>NaN</td>\n",
       "      <td>NaN</td>\n",
       "      <td>NaN</td>\n",
       "      <td>NaN</td>\n",
       "      <td>NaN</td>\n",
       "      <td>NaN</td>\n",
       "      <td>NaN</td>\n",
       "    </tr>\n",
       "    <tr>\n",
       "      <th>3</th>\n",
       "      <td>-1318276747</td>\n",
       "      <td>Princeton</td>\n",
       "      <td>NaN</td>\n",
       "      <td>NaN</td>\n",
       "      <td>NaN</td>\n",
       "      <td>NaN</td>\n",
       "      <td>NaN</td>\n",
       "      <td>NaN</td>\n",
       "      <td>Female</td>\n",
       "      <td>NaN</td>\n",
       "      <td>...</td>\n",
       "      <td>NaN</td>\n",
       "      <td>NaN</td>\n",
       "      <td>NaN</td>\n",
       "      <td>NaN</td>\n",
       "      <td>NaN</td>\n",
       "      <td>NaN</td>\n",
       "      <td>NaN</td>\n",
       "      <td>NaN</td>\n",
       "      <td>NaN</td>\n",
       "      <td>NaN</td>\n",
       "    </tr>\n",
       "    <tr>\n",
       "      <th>4</th>\n",
       "      <td>2109566321</td>\n",
       "      <td>NaN</td>\n",
       "      <td>Redmond, WA</td>\n",
       "      <td>Redmond High School</td>\n",
       "      <td>Redmond, WA</td>\n",
       "      <td>Princeton University</td>\n",
       "      <td>NaN</td>\n",
       "      <td>NaN</td>\n",
       "      <td>Female</td>\n",
       "      <td>Sammamish, WA</td>\n",
       "      <td>...</td>\n",
       "      <td>NaN</td>\n",
       "      <td>NaN</td>\n",
       "      <td>NaN</td>\n",
       "      <td>NaN</td>\n",
       "      <td>NaN</td>\n",
       "      <td>NaN</td>\n",
       "      <td>NaN</td>\n",
       "      <td>NaN</td>\n",
       "      <td>NaN</td>\n",
       "      <td>NaN</td>\n",
       "    </tr>\n",
       "  </tbody>\n",
       "</table>\n",
       "<p>5 rows × 27 columns</p>\n",
       "</div>"
      ],
      "text/plain": [
       "   userHash (S) currentLocation (S) education1location (S)  \\\n",
       "0    -318129462                 NaN                    NaN   \n",
       "1     635926102                 NaN    Redmond, Washington   \n",
       "2   -1748993256                 NaN                    NaN   \n",
       "3   -1318276747           Princeton                    NaN   \n",
       "4    2109566321                 NaN            Redmond, WA   \n",
       "\n",
       "    education1name (S) education2location (S)        education2name (S)  \\\n",
       "0                  NaN                    NaN                       NaN   \n",
       "1  Redmond High School    Redmond, Washington  University of Washington   \n",
       "2                  NaN                    NaN                       NaN   \n",
       "3                  NaN                    NaN                       NaN   \n",
       "4  Redmond High School            Redmond, WA      Princeton University   \n",
       "\n",
       "  education3location (S) education3name (S) gender (S)   hometown (S)  \\\n",
       "0                    NaN                NaN     Female            NaN   \n",
       "1                    NaN                NaN       Male            NaN   \n",
       "2                    NaN                NaN     Female            NaN   \n",
       "3                    NaN                NaN     Female            NaN   \n",
       "4                    NaN                NaN     Female  Sammamish, WA   \n",
       "\n",
       "       ...            work1role (S) work2location (S) work2name (S)  \\\n",
       "0      ...                      NaN               NaN           NaN   \n",
       "1      ...       Software Developer      San Jose, CA         Cisco   \n",
       "2      ...                      NaN               NaN           NaN   \n",
       "3      ...                      NaN               NaN           NaN   \n",
       "4      ...                      NaN               NaN           NaN   \n",
       "\n",
       "                 work2role (S) work3location (S)  \\\n",
       "0                          NaN               NaN   \n",
       "1  Software Engineering Intern       Seattle, WA   \n",
       "2                          NaN               NaN   \n",
       "3                          NaN               NaN   \n",
       "4                          NaN               NaN   \n",
       "\n",
       "                      work3name (S)     work3role (S) work4location (S)  \\\n",
       "0                               NaN               NaN               NaN   \n",
       "1  Seattle Youth Symphony Orchestra  Data entry clerk               NaN   \n",
       "2                               NaN               NaN               NaN   \n",
       "3                               NaN               NaN               NaN   \n",
       "4                               NaN               NaN               NaN   \n",
       "\n",
       "  work4name (S) work4role (S)  \n",
       "0           NaN           NaN  \n",
       "1           NaN           NaN  \n",
       "2           NaN           NaN  \n",
       "3           NaN           NaN  \n",
       "4           NaN           NaN  \n",
       "\n",
       "[5 rows x 27 columns]"
      ]
     },
     "execution_count": 19,
     "metadata": {},
     "output_type": "execute_result"
    }
   ],
   "source": [
    "users.head(n=5)"
   ]
  },
  {
   "cell_type": "code",
   "execution_count": 21,
   "metadata": {
    "collapsed": false
   },
   "outputs": [],
   "source": [
    "articles = pd.read_csv('2018_02_20_Articles.csv', encoding = \"ISO-8859-1\")"
   ]
  },
  {
   "cell_type": "code",
   "execution_count": 22,
   "metadata": {
    "collapsed": false
   },
   "outputs": [
    {
     "data": {
      "text/html": [
       "<div>\n",
       "<table border=\"1\" class=\"dataframe\">\n",
       "  <thead>\n",
       "    <tr style=\"text-align: right;\">\n",
       "      <th></th>\n",
       "      <th>userHash (S)</th>\n",
       "      <th>articleURL (S)</th>\n",
       "      <th>articleClicked (BOOL)</th>\n",
       "      <th>articleClickedTime (S)</th>\n",
       "      <th>articleComments (L)</th>\n",
       "      <th>articlePopularity (L)</th>\n",
       "      <th>articleSeenTime (L)</th>\n",
       "      <th>articleSharedTime (L)</th>\n",
       "      <th>articleTitle (S)</th>\n",
       "      <th>sharerHash (L)</th>\n",
       "    </tr>\n",
       "  </thead>\n",
       "  <tbody>\n",
       "    <tr>\n",
       "      <th>0</th>\n",
       "      <td>-318129462</td>\n",
       "      <td>http://bit.ly/Timoth%C3%A9e-Armie-YOU</td>\n",
       "      <td>True</td>\n",
       "      <td>Sun, 11 Feb 2018 02:44:44 GMT</td>\n",
       "      <td>[]</td>\n",
       "      <td>[]</td>\n",
       "      <td>[  { \"S\" : \"Sun, 11 Feb 2018 02:44:44 GMT\" }]</td>\n",
       "      <td>[]</td>\n",
       "      <td>NaN</td>\n",
       "      <td>[]</td>\n",
       "    </tr>\n",
       "    <tr>\n",
       "      <th>1</th>\n",
       "      <td>-318129462</td>\n",
       "      <td>http://eonli.ne/2BZ0vBf</td>\n",
       "      <td>True</td>\n",
       "      <td>Fri, 16 Feb 2018 17:28:00 GMT</td>\n",
       "      <td>[]</td>\n",
       "      <td>[]</td>\n",
       "      <td>[  { \"S\" : \"Fri, 16 Feb 2018 17:28:00 GMT\" }]</td>\n",
       "      <td>[]</td>\n",
       "      <td>NaN</td>\n",
       "      <td>[]</td>\n",
       "    </tr>\n",
       "    <tr>\n",
       "      <th>2</th>\n",
       "      <td>-318129462</td>\n",
       "      <td>http://www.eonline.com/news/911768/jamie-dorna...</td>\n",
       "      <td>True</td>\n",
       "      <td>Fri, 16 Feb 2018 17:28:08 GMT</td>\n",
       "      <td>[]</td>\n",
       "      <td>[]</td>\n",
       "      <td>[  { \"S\" : \"Fri, 16 Feb 2018 17:28:08 GMT\" }]</td>\n",
       "      <td>[]</td>\n",
       "      <td>NaN</td>\n",
       "      <td>[]</td>\n",
       "    </tr>\n",
       "    <tr>\n",
       "      <th>3</th>\n",
       "      <td>-318129462</td>\n",
       "      <td>https://offbeat.topix.net/slideshow/18943</td>\n",
       "      <td>True</td>\n",
       "      <td>Sun, 11 Feb 2018 02:52:14 GMT</td>\n",
       "      <td>[]</td>\n",
       "      <td>[]</td>\n",
       "      <td>[  { \"S\" : \"Sun, 11 Feb 2018 02:52:14 GMT\" }]</td>\n",
       "      <td>[]</td>\n",
       "      <td>NaN</td>\n",
       "      <td>[]</td>\n",
       "    </tr>\n",
       "    <tr>\n",
       "      <th>4</th>\n",
       "      <td>-318129462</td>\n",
       "      <td>https://rewire.news/article/2018/02/14/south-a...</td>\n",
       "      <td>True</td>\n",
       "      <td>Fri, 16 Feb 2018 17:18:31 GMT</td>\n",
       "      <td>[]</td>\n",
       "      <td>[]</td>\n",
       "      <td>[  { \"S\" : \"Fri, 16 Feb 2018 17:18:29 GMT\" }]</td>\n",
       "      <td>[]</td>\n",
       "      <td>NaN</td>\n",
       "      <td>[]</td>\n",
       "    </tr>\n",
       "  </tbody>\n",
       "</table>\n",
       "</div>"
      ],
      "text/plain": [
       "   userHash (S)                                     articleURL (S)  \\\n",
       "0    -318129462              http://bit.ly/Timoth%C3%A9e-Armie-YOU   \n",
       "1    -318129462                            http://eonli.ne/2BZ0vBf   \n",
       "2    -318129462  http://www.eonline.com/news/911768/jamie-dorna...   \n",
       "3    -318129462          https://offbeat.topix.net/slideshow/18943   \n",
       "4    -318129462  https://rewire.news/article/2018/02/14/south-a...   \n",
       "\n",
       "  articleClicked (BOOL)         articleClickedTime (S) articleComments (L)  \\\n",
       "0                  True  Sun, 11 Feb 2018 02:44:44 GMT                  []   \n",
       "1                  True  Fri, 16 Feb 2018 17:28:00 GMT                  []   \n",
       "2                  True  Fri, 16 Feb 2018 17:28:08 GMT                  []   \n",
       "3                  True  Sun, 11 Feb 2018 02:52:14 GMT                  []   \n",
       "4                  True  Fri, 16 Feb 2018 17:18:31 GMT                  []   \n",
       "\n",
       "  articlePopularity (L)                            articleSeenTime (L)  \\\n",
       "0                    []  [  { \"S\" : \"Sun, 11 Feb 2018 02:44:44 GMT\" }]   \n",
       "1                    []  [  { \"S\" : \"Fri, 16 Feb 2018 17:28:00 GMT\" }]   \n",
       "2                    []  [  { \"S\" : \"Fri, 16 Feb 2018 17:28:08 GMT\" }]   \n",
       "3                    []  [  { \"S\" : \"Sun, 11 Feb 2018 02:52:14 GMT\" }]   \n",
       "4                    []  [  { \"S\" : \"Fri, 16 Feb 2018 17:18:29 GMT\" }]   \n",
       "\n",
       "  articleSharedTime (L) articleTitle (S) sharerHash (L)  \n",
       "0                    []              NaN             []  \n",
       "1                    []              NaN             []  \n",
       "2                    []              NaN             []  \n",
       "3                    []              NaN             []  \n",
       "4                    []              NaN             []  "
      ]
     },
     "execution_count": 22,
     "metadata": {},
     "output_type": "execute_result"
    }
   ],
   "source": [
    "articles.head(n=5)"
   ]
  },
  {
   "cell_type": "code",
   "execution_count": 25,
   "metadata": {
    "collapsed": false
   },
   "outputs": [
    {
     "data": {
      "text/plain": [
       "userHash (S)              2654\n",
       "articleURL (S)            2654\n",
       "articleClicked (BOOL)     2654\n",
       "articleClickedTime (S)    1501\n",
       "articleComments (L)       2654\n",
       "articlePopularity (L)     2654\n",
       "articleSeenTime (L)       2654\n",
       "articleSharedTime (L)     2654\n",
       "articleTitle (S)          1441\n",
       "sharerHash (L)            2654\n",
       "dtype: int64"
      ]
     },
     "execution_count": 25,
     "metadata": {},
     "output_type": "execute_result"
    }
   ],
   "source": [
    "articles.count()"
   ]
  },
  {
   "cell_type": "code",
   "execution_count": 31,
   "metadata": {
    "collapsed": false
   },
   "outputs": [
    {
     "data": {
      "text/plain": [
       "1501"
      ]
     },
     "execution_count": 31,
     "metadata": {},
     "output_type": "execute_result"
    }
   ],
   "source": [
    "len(articles[articles['articleClicked (BOOL)'] == True])"
   ]
  },
  {
   "cell_type": "code",
   "execution_count": 32,
   "metadata": {
    "collapsed": false
   },
   "outputs": [
    {
     "data": {
      "text/plain": [
       "0.5655614167294649"
      ]
     },
     "execution_count": 32,
     "metadata": {},
     "output_type": "execute_result"
    }
   ],
   "source": [
    "1501/2654"
   ]
  },
  {
   "cell_type": "code",
   "execution_count": 35,
   "metadata": {
    "collapsed": false
   },
   "outputs": [
    {
     "data": {
      "text/plain": [
       "-1428200504    202\n",
       " 1832382593    185\n",
       "-1996060419    177\n",
       " 1062321464    174\n",
       "-1717522715    164\n",
       " 1191446084    115\n",
       "-311072531     110\n",
       " 2109566321    103\n",
       "-939716385      84\n",
       " 1185519956     80\n",
       " 505107284      78\n",
       "-1245150496     78\n",
       " 998940495      68\n",
       " 2044433857     60\n",
       " 167914554      56\n",
       "-1318461357     55\n",
       " 1813666528     43\n",
       "-1802698488     40\n",
       "-461920787      36\n",
       "-1719961888     34\n",
       "-2024984007     32\n",
       " 539240538      30\n",
       "-1168182452     29\n",
       " 735601391      26\n",
       "-1254867316     25\n",
       " 1425673437     23\n",
       " 1114831908     23\n",
       " 2145402863     23\n",
       "-1174051134     22\n",
       " 374295240      21\n",
       "              ... \n",
       "-767230508       2\n",
       " 65960851        2\n",
       " 1960060685      2\n",
       " 131689663       2\n",
       " 163150598       2\n",
       " 973286334       2\n",
       " 1111278273      2\n",
       " 760355258       2\n",
       " 479256079       2\n",
       " 443533532       2\n",
       "-683297031       2\n",
       " 288825560       2\n",
       " 266303681       2\n",
       "-134275538       1\n",
       " 138062533       1\n",
       " 995544962       1\n",
       "-1635331914      1\n",
       " 1976286385      1\n",
       "-2142194433      1\n",
       " 1614211993      1\n",
       " 1377846559      1\n",
       " 391831389       1\n",
       " 213200086       1\n",
       "-63548466        1\n",
       " 50589125        1\n",
       "-1219443324      1\n",
       "-840230938       1\n",
       "-1795942317      1\n",
       " 438976383       1\n",
       "-80232382        1\n",
       "Name: userHash (S), dtype: int64"
      ]
     },
     "execution_count": 35,
     "metadata": {},
     "output_type": "execute_result"
    }
   ],
   "source": [
    "articles['userHash (S)'].value_counts()"
   ]
  },
  {
   "cell_type": "code",
   "execution_count": null,
   "metadata": {
    "collapsed": true
   },
   "outputs": [],
   "source": []
  }
 ],
 "metadata": {
  "kernelspec": {
   "display_name": "Python 3",
   "language": "python",
   "name": "python3"
  },
  "language_info": {
   "codemirror_mode": {
    "name": "ipython",
    "version": 3
   },
   "file_extension": ".py",
   "mimetype": "text/x-python",
   "name": "python",
   "nbconvert_exporter": "python",
   "pygments_lexer": "ipython3",
   "version": "3.5.4"
  }
 },
 "nbformat": 4,
 "nbformat_minor": 0
}
